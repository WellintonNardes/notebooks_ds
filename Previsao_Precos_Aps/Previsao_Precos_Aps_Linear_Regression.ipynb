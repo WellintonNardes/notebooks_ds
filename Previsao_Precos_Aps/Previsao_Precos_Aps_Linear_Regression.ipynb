{
 "cells": [
  {
   "cell_type": "markdown",
   "metadata": {},
   "source": [
    "   #               Usando Regressão Linear Para Prever Preços de Apartamentos"
   ]
  },
  {
   "cell_type": "markdown",
   "metadata": {},
   "source": [
    "<br>"
   ]
  },
  {
   "cell_type": "markdown",
   "metadata": {},
   "source": [
    "### Previsão de Preços dos Imóveis\n",
    "\n",
    "Conhecer os preços de imóveis através da realização de predições torna muito mais fácil o trabalho para quem pretende vender ou comprar. Muitos fatores são levados em consideração na hora de definir o preço de um apartamento por exemplo, como localização, área, número de quartos, número de banheiros, vaga de garam, condomínio, entre outros. Imóveis com preços adequados ao mercado são mais procurados, dessa forma, o uso da previsão de preços aparece como uma forma estratégica para que resultados satisfatotios sejam alcançados em negociações imobiliarias.\n",
    "\n",
    "### Modelo de Regressão Linear\n",
    "\n",
    "O modelo de Regressão linear é um algoritmo do tipo supervisionado de machine learning utilizado para mensurar valores a partir de uma vários outros dados. O modelo de Regressão linear pode ser aplicada  em problemas onde as variáveis de entrada e saída são valores contínuos, como na predição dos preços de apartamentos. Esse algoritmo funciona quando existe uma correlação linear satisfatória entre os dados.\n",
    "\n",
    "### Sobre os Dados\n",
    "Como ja mencionado anteriormente, vamos realisar a predição dos preços de apartamentos através do modelo algoritimo de Regressão Linear. Todas as informações referentes ao bairro Menino Deus, localizado no município brasileiro de Porto Alegre-RS. Os dados sobre os apartamentos possuem as seguitnes variaveis: valor do imóvel(em reais), area(m²), número de quartos, número de banheiros, número de vagas de garagem e\tvalor do condominio(em reais)."
   ]
  },
  {
   "cell_type": "markdown",
   "metadata": {},
   "source": [
    "<br>"
   ]
  },
  {
   "cell_type": "markdown",
   "metadata": {},
   "source": [
    "#### Importando Bibliotecas "
   ]
  },
  {
   "cell_type": "code",
   "execution_count": 1,
   "metadata": {},
   "outputs": [],
   "source": [
    "import pandas as pd\n",
    "import numpy as np\n",
    "from sklearn import linear_model\n",
    "import matplotlib.pyplot as plt\n",
    "import seaborn as sns\n",
    "%matplotlib inline"
   ]
  },
  {
   "cell_type": "markdown",
   "metadata": {},
   "source": [
    "<br>"
   ]
  },
  {
   "cell_type": "markdown",
   "metadata": {},
   "source": [
    "#### Importando Arquivo csv e Criando DataFrame"
   ]
  },
  {
   "cell_type": "code",
   "execution_count": 2,
   "metadata": {
    "scrolled": true
   },
   "outputs": [
    {
     "data": {
      "text/html": [
       "<div>\n",
       "<style scoped>\n",
       "    .dataframe tbody tr th:only-of-type {\n",
       "        vertical-align: middle;\n",
       "    }\n",
       "\n",
       "    .dataframe tbody tr th {\n",
       "        vertical-align: top;\n",
       "    }\n",
       "\n",
       "    .dataframe thead th {\n",
       "        text-align: right;\n",
       "    }\n",
       "</style>\n",
       "<table border=\"1\" class=\"dataframe\">\n",
       "  <thead>\n",
       "    <tr style=\"text-align: right;\">\n",
       "      <th></th>\n",
       "      <th>valor_reais</th>\n",
       "      <th>area_m²</th>\n",
       "      <th>n_quartos</th>\n",
       "      <th>banheiros</th>\n",
       "      <th>vaga_garagem</th>\n",
       "      <th>condominio_reais</th>\n",
       "    </tr>\n",
       "  </thead>\n",
       "  <tbody>\n",
       "    <tr>\n",
       "      <th>0</th>\n",
       "      <td>320000</td>\n",
       "      <td>31</td>\n",
       "      <td>1</td>\n",
       "      <td>1</td>\n",
       "      <td>1</td>\n",
       "      <td>240</td>\n",
       "    </tr>\n",
       "    <tr>\n",
       "      <th>1</th>\n",
       "      <td>330000</td>\n",
       "      <td>80</td>\n",
       "      <td>2</td>\n",
       "      <td>1</td>\n",
       "      <td>0</td>\n",
       "      <td>240</td>\n",
       "    </tr>\n",
       "    <tr>\n",
       "      <th>2</th>\n",
       "      <td>390000</td>\n",
       "      <td>78</td>\n",
       "      <td>2</td>\n",
       "      <td>1</td>\n",
       "      <td>0</td>\n",
       "      <td>258</td>\n",
       "    </tr>\n",
       "    <tr>\n",
       "      <th>3</th>\n",
       "      <td>610000</td>\n",
       "      <td>112</td>\n",
       "      <td>2</td>\n",
       "      <td>3</td>\n",
       "      <td>1</td>\n",
       "      <td>900</td>\n",
       "    </tr>\n",
       "    <tr>\n",
       "      <th>4</th>\n",
       "      <td>610000</td>\n",
       "      <td>93</td>\n",
       "      <td>3</td>\n",
       "      <td>3</td>\n",
       "      <td>1</td>\n",
       "      <td>771</td>\n",
       "    </tr>\n",
       "  </tbody>\n",
       "</table>\n",
       "</div>"
      ],
      "text/plain": [
       "   valor_reais  area_m²  n_quartos  banheiros  vaga_garagem  condominio_reais\n",
       "0       320000       31          1          1             1               240\n",
       "1       330000       80          2          1             0               240\n",
       "2       390000       78          2          1             0               258\n",
       "3       610000      112          2          3             1               900\n",
       "4       610000       93          3          3             1               771"
      ]
     },
     "execution_count": 2,
     "metadata": {},
     "output_type": "execute_result"
    }
   ],
   "source": [
    "pd.read_csv('preco_aps_poa_2021.csv') # Importando arquivo csv\n",
    "df = pd.read_csv('preco_aps_poa_2021.csv') # Criando DataFrame\n",
    "df.head() # Exibindo as primeiras linhas do arquivo"
   ]
  },
  {
   "cell_type": "markdown",
   "metadata": {},
   "source": [
    "<br>"
   ]
  },
  {
   "cell_type": "markdown",
   "metadata": {},
   "source": [
    "#### Explorando os Dados\n",
    "A visão exploratória feita previamente auxilia na realização de qualquer análise e um conjunto de dados"
   ]
  },
  {
   "cell_type": "code",
   "execution_count": 3,
   "metadata": {
    "scrolled": true
   },
   "outputs": [
    {
     "name": "stdout",
     "output_type": "stream",
     "text": [
      "<class 'pandas.core.frame.DataFrame'>\n",
      "RangeIndex: 53 entries, 0 to 52\n",
      "Data columns (total 6 columns):\n",
      " #   Column            Non-Null Count  Dtype\n",
      "---  ------            --------------  -----\n",
      " 0   valor_reais       53 non-null     int64\n",
      " 1   area_m²           53 non-null     int64\n",
      " 2   n_quartos         53 non-null     int64\n",
      " 3   banheiros         53 non-null     int64\n",
      " 4   vaga_garagem      53 non-null     int64\n",
      " 5   condominio_reais  53 non-null     int64\n",
      "dtypes: int64(6)\n",
      "memory usage: 2.6 KB\n"
     ]
    }
   ],
   "source": [
    "df.info() # Informações sobre os dados"
   ]
  },
  {
   "cell_type": "markdown",
   "metadata": {},
   "source": [
    "+ O arquivo possui 53 linhas e 6 colunas\n",
    "+ Todas as colunas possuem dados com números inteiros(float64)\n",
    "+ Não há dados nulos\n",
    "+ O tamanho do arquivo é de 2.6KB"
   ]
  },
  {
   "cell_type": "code",
   "execution_count": 4,
   "metadata": {
    "scrolled": false
   },
   "outputs": [
    {
     "data": {
      "text/html": [
       "<div>\n",
       "<style scoped>\n",
       "    .dataframe tbody tr th:only-of-type {\n",
       "        vertical-align: middle;\n",
       "    }\n",
       "\n",
       "    .dataframe tbody tr th {\n",
       "        vertical-align: top;\n",
       "    }\n",
       "\n",
       "    .dataframe thead th {\n",
       "        text-align: right;\n",
       "    }\n",
       "</style>\n",
       "<table border=\"1\" class=\"dataframe\">\n",
       "  <thead>\n",
       "    <tr style=\"text-align: right;\">\n",
       "      <th></th>\n",
       "      <th>valor_reais</th>\n",
       "      <th>area_m²</th>\n",
       "      <th>n_quartos</th>\n",
       "      <th>banheiros</th>\n",
       "      <th>vaga_garagem</th>\n",
       "      <th>condominio_reais</th>\n",
       "    </tr>\n",
       "  </thead>\n",
       "  <tbody>\n",
       "    <tr>\n",
       "      <th>count</th>\n",
       "      <td>5.300000e+01</td>\n",
       "      <td>53.000000</td>\n",
       "      <td>53.000000</td>\n",
       "      <td>53.000000</td>\n",
       "      <td>53.000000</td>\n",
       "      <td>53.000000</td>\n",
       "    </tr>\n",
       "    <tr>\n",
       "      <th>mean</th>\n",
       "      <td>4.849038e+05</td>\n",
       "      <td>78.547170</td>\n",
       "      <td>2.018868</td>\n",
       "      <td>1.641509</td>\n",
       "      <td>0.622642</td>\n",
       "      <td>450.452830</td>\n",
       "    </tr>\n",
       "    <tr>\n",
       "      <th>std</th>\n",
       "      <td>2.283606e+05</td>\n",
       "      <td>34.915594</td>\n",
       "      <td>0.796400</td>\n",
       "      <td>0.736268</td>\n",
       "      <td>0.627155</td>\n",
       "      <td>302.406856</td>\n",
       "    </tr>\n",
       "    <tr>\n",
       "      <th>min</th>\n",
       "      <td>1.800000e+05</td>\n",
       "      <td>31.000000</td>\n",
       "      <td>1.000000</td>\n",
       "      <td>1.000000</td>\n",
       "      <td>0.000000</td>\n",
       "      <td>148.000000</td>\n",
       "    </tr>\n",
       "    <tr>\n",
       "      <th>25%</th>\n",
       "      <td>3.300000e+05</td>\n",
       "      <td>57.000000</td>\n",
       "      <td>2.000000</td>\n",
       "      <td>1.000000</td>\n",
       "      <td>0.000000</td>\n",
       "      <td>240.000000</td>\n",
       "    </tr>\n",
       "    <tr>\n",
       "      <th>50%</th>\n",
       "      <td>4.300000e+05</td>\n",
       "      <td>71.000000</td>\n",
       "      <td>2.000000</td>\n",
       "      <td>1.000000</td>\n",
       "      <td>1.000000</td>\n",
       "      <td>315.000000</td>\n",
       "    </tr>\n",
       "    <tr>\n",
       "      <th>75%</th>\n",
       "      <td>5.990000e+05</td>\n",
       "      <td>91.000000</td>\n",
       "      <td>2.000000</td>\n",
       "      <td>2.000000</td>\n",
       "      <td>1.000000</td>\n",
       "      <td>600.000000</td>\n",
       "    </tr>\n",
       "    <tr>\n",
       "      <th>max</th>\n",
       "      <td>1.330000e+06</td>\n",
       "      <td>207.000000</td>\n",
       "      <td>5.000000</td>\n",
       "      <td>3.000000</td>\n",
       "      <td>2.000000</td>\n",
       "      <td>1800.000000</td>\n",
       "    </tr>\n",
       "  </tbody>\n",
       "</table>\n",
       "</div>"
      ],
      "text/plain": [
       "        valor_reais     area_m²  n_quartos  banheiros  vaga_garagem  \\\n",
       "count  5.300000e+01   53.000000  53.000000  53.000000     53.000000   \n",
       "mean   4.849038e+05   78.547170   2.018868   1.641509      0.622642   \n",
       "std    2.283606e+05   34.915594   0.796400   0.736268      0.627155   \n",
       "min    1.800000e+05   31.000000   1.000000   1.000000      0.000000   \n",
       "25%    3.300000e+05   57.000000   2.000000   1.000000      0.000000   \n",
       "50%    4.300000e+05   71.000000   2.000000   1.000000      1.000000   \n",
       "75%    5.990000e+05   91.000000   2.000000   2.000000      1.000000   \n",
       "max    1.330000e+06  207.000000   5.000000   3.000000      2.000000   \n",
       "\n",
       "       condominio_reais  \n",
       "count         53.000000  \n",
       "mean         450.452830  \n",
       "std          302.406856  \n",
       "min          148.000000  \n",
       "25%          240.000000  \n",
       "50%          315.000000  \n",
       "75%          600.000000  \n",
       "max         1800.000000  "
      ]
     },
     "execution_count": 4,
     "metadata": {},
     "output_type": "execute_result"
    }
   ],
   "source": [
    "df.describe() # Estatística descritva dos dados"
   ]
  },
  {
   "cell_type": "markdown",
   "metadata": {},
   "source": [
    "<br>"
   ]
  },
  {
   "cell_type": "markdown",
   "metadata": {},
   "source": [
    "#### Visualização das Variáveis \n",
    "Plotando um gráfico de linha de todas as variáveis em relação ao valor dos imóveis(valor_reais)."
   ]
  },
  {
   "cell_type": "code",
   "execution_count": 5,
   "metadata": {
    "scrolled": true
   },
   "outputs": [
    {
     "data": {
      "image/png": "[encoded data removed]",
      "text/plain": [
       "<Figure size 1296x720 with 6 Axes>"
      ]
     },
     "metadata": {
      "needs_background": "light"
     },
     "output_type": "display_data"
    }
   ],
   "source": [
    "plt.figure(1, figsize=(18,10))\n",
    "n = 0\n",
    "for x in ['valor_reais']:\n",
    "    for y in ['valor_reais','area_m²', 'n_quartos', 'banheiros', 'vaga_garagem', 'condominio_reais']:\n",
    "        n += 1\n",
    "        plt.subplot(3 , 3, n )\n",
    "        plt.subplots_adjust(hspace = 0.3 , wspace = 0.3)\n",
    "        sns.regplot(x = x , y = y , data = df)\n",
    "        plt.ylabel(y.split()[0]+' '+y.split()[1] if len(y.split()) > 1 else y )\n",
    "plt.show()"
   ]
  },
  {
   "cell_type": "markdown",
   "metadata": {},
   "source": [
    "<br>"
   ]
  },
  {
   "cell_type": "markdown",
   "metadata": {},
   "source": [
    "#### Correlação Entre as Variáveis \n",
    "Para a criação de um modelo de regressão linear, é necessario que as variáveis preditoras possuam correlação com a variável alvo. Para isso, as correlações devem alcançar um valor a partir de 0,5 para serem consideradas satisfatórias para uso, quanto mais próximo de 1, maior será a correlação."
   ]
  },
  {
   "cell_type": "code",
   "execution_count": 6,
   "metadata": {
    "scrolled": true
   },
   "outputs": [
    {
     "data": {
      "text/html": [
       "<div>\n",
       "<style scoped>\n",
       "    .dataframe tbody tr th:only-of-type {\n",
       "        vertical-align: middle;\n",
       "    }\n",
       "\n",
       "    .dataframe tbody tr th {\n",
       "        vertical-align: top;\n",
       "    }\n",
       "\n",
       "    .dataframe thead th {\n",
       "        text-align: right;\n",
       "    }\n",
       "</style>\n",
       "<table border=\"1\" class=\"dataframe\">\n",
       "  <thead>\n",
       "    <tr style=\"text-align: right;\">\n",
       "      <th></th>\n",
       "      <th>valor_reais</th>\n",
       "      <th>area_m²</th>\n",
       "      <th>n_quartos</th>\n",
       "      <th>banheiros</th>\n",
       "      <th>vaga_garagem</th>\n",
       "      <th>condominio_reais</th>\n",
       "    </tr>\n",
       "  </thead>\n",
       "  <tbody>\n",
       "    <tr>\n",
       "      <th>valor_reais</th>\n",
       "      <td>1.000000</td>\n",
       "      <td>0.633985</td>\n",
       "      <td>0.445604</td>\n",
       "      <td>0.670213</td>\n",
       "      <td>0.734302</td>\n",
       "      <td>0.762929</td>\n",
       "    </tr>\n",
       "    <tr>\n",
       "      <th>area_m²</th>\n",
       "      <td>0.633985</td>\n",
       "      <td>1.000000</td>\n",
       "      <td>0.519694</td>\n",
       "      <td>0.654109</td>\n",
       "      <td>0.288006</td>\n",
       "      <td>0.694115</td>\n",
       "    </tr>\n",
       "    <tr>\n",
       "      <th>n_quartos</th>\n",
       "      <td>0.445604</td>\n",
       "      <td>0.519694</td>\n",
       "      <td>1.000000</td>\n",
       "      <td>0.470911</td>\n",
       "      <td>0.091535</td>\n",
       "      <td>0.333576</td>\n",
       "    </tr>\n",
       "    <tr>\n",
       "      <th>banheiros</th>\n",
       "      <td>0.670213</td>\n",
       "      <td>0.654109</td>\n",
       "      <td>0.470911</td>\n",
       "      <td>1.000000</td>\n",
       "      <td>0.451047</td>\n",
       "      <td>0.558961</td>\n",
       "    </tr>\n",
       "    <tr>\n",
       "      <th>vaga_garagem</th>\n",
       "      <td>0.734302</td>\n",
       "      <td>0.288006</td>\n",
       "      <td>0.091535</td>\n",
       "      <td>0.451047</td>\n",
       "      <td>1.000000</td>\n",
       "      <td>0.619954</td>\n",
       "    </tr>\n",
       "    <tr>\n",
       "      <th>condominio_reais</th>\n",
       "      <td>0.762929</td>\n",
       "      <td>0.694115</td>\n",
       "      <td>0.333576</td>\n",
       "      <td>0.558961</td>\n",
       "      <td>0.619954</td>\n",
       "      <td>1.000000</td>\n",
       "    </tr>\n",
       "  </tbody>\n",
       "</table>\n",
       "</div>"
      ],
      "text/plain": [
       "                  valor_reais   area_m²  n_quartos  banheiros  vaga_garagem  \\\n",
       "valor_reais          1.000000  0.633985   0.445604   0.670213      0.734302   \n",
       "area_m²              0.633985  1.000000   0.519694   0.654109      0.288006   \n",
       "n_quartos            0.445604  0.519694   1.000000   0.470911      0.091535   \n",
       "banheiros            0.670213  0.654109   0.470911   1.000000      0.451047   \n",
       "vaga_garagem         0.734302  0.288006   0.091535   0.451047      1.000000   \n",
       "condominio_reais     0.762929  0.694115   0.333576   0.558961      0.619954   \n",
       "\n",
       "                  condominio_reais  \n",
       "valor_reais               0.762929  \n",
       "area_m²                   0.694115  \n",
       "n_quartos                 0.333576  \n",
       "banheiros                 0.558961  \n",
       "vaga_garagem              0.619954  \n",
       "condominio_reais          1.000000  "
      ]
     },
     "execution_count": 6,
     "metadata": {},
     "output_type": "execute_result"
    }
   ],
   "source": [
    "df.corr() # Verificando correlação"
   ]
  },
  {
   "cell_type": "markdown",
   "metadata": {},
   "source": [
    "A variavel alvo(valor_reais) possui maior correlação com \"condominio_reais\"(0,76) e menor com \"n_quartos\"(0,44)"
   ]
  },
  {
   "cell_type": "markdown",
   "metadata": {},
   "source": [
    "<br>"
   ]
  },
  {
   "cell_type": "markdown",
   "metadata": {},
   "source": [
    "O gráfico a seguir permite uma melhor visualização da matriz de correlação."
   ]
  },
  {
   "cell_type": "code",
   "execution_count": 7,
   "metadata": {},
   "outputs": [
    {
     "data": {
      "image/png": "[encoded data removed]",
      "text/plain": [
       "<Figure size 864x576 with 2 Axes>"
      ]
     },
     "metadata": {
      "needs_background": "light"
     },
     "output_type": "display_data"
    }
   ],
   "source": [
    "f = plt.figure(figsize=(12, 8))\n",
    "plt.matshow(df.corr(), fignum=f.number)\n",
    "plt.xticks(range(df.shape[1]), df.columns, fontsize=10, rotation=40)\n",
    "plt.yticks(range(df.shape[1]), df.columns, fontsize=10)\n",
    "cb = plt.colorbar()\n",
    "cb.ax.tick_params(labelsize=12)\n",
    "plt.title('Matriz de Correlação', fontsize=16);"
   ]
  },
  {
   "cell_type": "markdown",
   "metadata": {},
   "source": [
    "<br>"
   ]
  },
  {
   "cell_type": "markdown",
   "metadata": {
    "scrolled": true
   },
   "source": [
    "#### Realizando a Modelagem\n",
    "+ Preparando os dados\n",
    "+ Divisão dos dados de treino e teste\n",
    "+ Criando o treinamento dos dados\n",
    "+ Testando modelo"
   ]
  },
  {
   "cell_type": "code",
   "execution_count": 8,
   "metadata": {},
   "outputs": [],
   "source": [
    "x = df[['area_m²', 'n_quartos', 'banheiros', 'vaga_garagem', 'condominio_reais']] # Variável independente(atributos)\n",
    "y = df['valor_reais'] # Variável alvo(saída estimada)"
   ]
  },
  {
   "cell_type": "markdown",
   "metadata": {},
   "source": [
    "Criando o objeto de classe de regressão linear com as variáveis a serem utilizadas dividino os dados de treino(70%) e teste(30%)."
   ]
  },
  {
   "cell_type": "code",
   "execution_count": 9,
   "metadata": {},
   "outputs": [],
   "source": [
    "from sklearn.model_selection import train_test_split\n",
    "x_train, x_test, y_train, y_test = train_test_split(x,y,test_size = 0.2) "
   ]
  },
  {
   "cell_type": "markdown",
   "metadata": {},
   "source": [
    "Gerando o treinamento do modelo através da função \".fit( )\", passando por parâmetro os dados \"x treino\" e  \"y treino\"."
   ]
  },
  {
   "cell_type": "code",
   "execution_count": 10,
   "metadata": {
    "scrolled": false
   },
   "outputs": [
    {
     "data": {
      "text/plain": [
       "LinearRegression()"
      ]
     },
     "execution_count": 10,
     "metadata": {},
     "output_type": "execute_result"
    }
   ],
   "source": [
    "from sklearn.linear_model import LinearRegression\n",
    "modelo = LinearRegression()\n",
    "modelo.fit(x_train, y_train) # Treinando os dados com modelo"
   ]
  },
  {
   "cell_type": "markdown",
   "metadata": {},
   "source": [
    "Testando o modelo com a função \".predict( )\", passando por parâmetro os dados \"x teste\".\n"
   ]
  },
  {
   "cell_type": "code",
   "execution_count": 11,
   "metadata": {
    "scrolled": true
   },
   "outputs": [
    {
     "data": {
      "text/plain": [
       "array([310378.61178704, 757202.1093136 , 305460.5930272 , 975362.59988137,\n",
       "       517194.65646824, 388797.92536574, 774508.62410604, 725737.56952581,\n",
       "       213019.83215845, 982272.11883986, 533808.22446874])"
      ]
     },
     "execution_count": 11,
     "metadata": {},
     "output_type": "execute_result"
    }
   ],
   "source": [
    "modelo.predict(x_test)"
   ]
  },
  {
   "cell_type": "markdown",
   "metadata": {},
   "source": [
    "<br>"
   ]
  },
  {
   "cell_type": "markdown",
   "metadata": {},
   "source": [
    "#### Avaliando o Modelo\n",
    "As métricas de validação são usadas para mensurar a eficácia de cada algoritimo utilizado. Nesse caso, R² é a métrica que representa o quão próximos os dados estão da linha de regressão ajustada. R² varia entre 0 e 1, por vezes sendo expresso em termos percentuais. Essa medida estatística mostra a quantidade da variância dos dados que é explicada pelo modelo linear. Assim, quanto maior o R², mais explicativo é o modelo linear, ou seja, melhor ele se ajusta à amostra."
   ]
  },
  {
   "cell_type": "code",
   "execution_count": 12,
   "metadata": {},
   "outputs": [
    {
     "data": {
      "text/plain": [
       "0.8959193364125055"
      ]
     },
     "execution_count": 12,
     "metadata": {},
     "output_type": "execute_result"
    }
   ],
   "source": [
    "acuracia = modelo.score(x_test, y_test)\n",
    "acuracia"
   ]
  },
  {
   "cell_type": "markdown",
   "metadata": {},
   "source": [
    "Vemos que o modelo alcançou uma acurácia de 89%, considerado satisfatório para uso."
   ]
  },
  {
   "cell_type": "markdown",
   "metadata": {},
   "source": [
    "<br>"
   ]
  },
  {
   "cell_type": "markdown",
   "metadata": {},
   "source": [
    "### Conclusões\n",
    "\n",
    "+ O modelo gerado para a predição dos preços de apartamentos mostrou uma eficácia de 89% em sua performance, considerado satisfatório para uso.\n",
    "\n",
    "\n",
    "+ Por meio do algoritimo de Regressão Linear aqui criado, fica mais prático de chegar aos valores adequados dos apartamentos, o que leva a negociações mais satisfatórias no mercado imobiliário. "
   ]
  },
  {
   "cell_type": "markdown",
   "metadata": {},
   "source": [
    "<br>"
   ]
  }
 ],
 "metadata": {
  "kernelspec": {
   "display_name": "Python 3",
   "language": "python",
   "name": "python3"
  },
  "language_info": {
   "codemirror_mode": {
    "name": "ipython",
    "version": 3
   },
   "file_extension": ".py",
   "mimetype": "text/x-python",
   "name": "python",
   "nbconvert_exporter": "python",
   "pygments_lexer": "ipython3",
   "version": "3.8.5"
  }
 },
 "nbformat": 4,
 "nbformat_minor": 4
}
