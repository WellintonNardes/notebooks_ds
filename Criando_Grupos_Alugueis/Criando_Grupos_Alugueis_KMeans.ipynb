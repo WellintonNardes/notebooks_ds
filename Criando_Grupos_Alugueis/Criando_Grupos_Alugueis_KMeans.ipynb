{
 "cells": [
  {
   "cell_type": "markdown",
   "metadata": {},
   "source": [
    "# Agrupamento de Imóveis Para Aluguel Com K-Means"
   ]
  },
  {
   "cell_type": "markdown",
   "metadata": {},
   "source": [
    "<br>"
   ]
  },
  {
   "cell_type": "markdown",
   "metadata": {},
   "source": [
    "### Aluguel de Apartamentos\n",
    "\n",
    "Alugar um apartamento tem sido a alternativa de moradia encontrada por muitas pessoas nas grandes cidades brasileiras. Em muitos casos a busca pelo aluguel de um imóvel com o perfil desejado acaba não sendo tarefa fácil, pois normalmente as pessoas levam em consideração não só os valores mensais de um aluguel, mas também fatores como o tamanho do imóvel e despesas como  o condomínio. A criação de grupos é uma alternativa que pode facilitar tanto a procura, quanto a oferta desses imóveis, considerando a inclusão dos atributos que levam os clientes a escolher alugar. Então como identificar grupos semelhantes de apartamentos para alugar? Um algoritmo como o K-Means pode auxiliar no agrupamento dos dados em grupos distintos."
   ]
  },
  {
   "cell_type": "markdown",
   "metadata": {},
   "source": [
    "### Modelo K-Means\n",
    "\n",
    "O K-Means é um modelo que a partir dos seus dados, aprende como eles podem ser agrupados. Através de uma série de iterações, esse algoritmo é capaz identificar quais pontos de dados pertencem a cada um dos k clusters de um conjunto de dados. Os clusters criados devem possuir variância semelhante e que minimizam uma função de custo específica. Com a soma dos quadrados dentro do cluster como função de custo, os pontos de dados no mesmo cluster serão semelhantes entre si , enquanto os pontos de dados em diferentes clusters terão um grau menor de similaridade."
   ]
  },
  {
   "cell_type": "markdown",
   "metadata": {},
   "source": [
    "### Sobre os Dados\n",
    "Os dados usados são referentes ao bairro Menino Deus, localizado no município brasileiro de Porto Alegre-RS. As informações sobre os apartamentos possuem os seguitnes atributos: valor do aluguel(em reais), area do imóvel(m²), número de quartos, número de banheiros e valor do condominio(em reais)."
   ]
  },
  {
   "cell_type": "markdown",
   "metadata": {},
   "source": [
    "<br>"
   ]
  },
  {
   "cell_type": "markdown",
   "metadata": {},
   "source": [
    "#### Importando Bibliotecas"
   ]
  },
  {
   "cell_type": "code",
   "execution_count": 1,
   "metadata": {},
   "outputs": [],
   "source": [
    "import pandas as pd\n",
    "from sklearn.cluster import KMeans\n",
    "import matplotlib.pyplot as plt\n",
    "import seaborn as sns\n",
    "%matplotlib inline"
   ]
  },
  {
   "cell_type": "markdown",
   "metadata": {},
   "source": [
    "<br>"
   ]
  },
  {
   "cell_type": "markdown",
   "metadata": {},
   "source": [
    "#### Importando Arquivo csv e Criando DataFrame"
   ]
  },
  {
   "cell_type": "code",
   "execution_count": 2,
   "metadata": {
    "scrolled": true
   },
   "outputs": [
    {
     "data": {
      "text/html": [
       "<div>\n",
       "<style scoped>\n",
       "    .dataframe tbody tr th:only-of-type {\n",
       "        vertical-align: middle;\n",
       "    }\n",
       "\n",
       "    .dataframe tbody tr th {\n",
       "        vertical-align: top;\n",
       "    }\n",
       "\n",
       "    .dataframe thead th {\n",
       "        text-align: right;\n",
       "    }\n",
       "</style>\n",
       "<table border=\"1\" class=\"dataframe\">\n",
       "  <thead>\n",
       "    <tr style=\"text-align: right;\">\n",
       "      <th></th>\n",
       "      <th>aluguel_reais</th>\n",
       "      <th>area_m2</th>\n",
       "      <th>n_quartos</th>\n",
       "      <th>banheiros</th>\n",
       "      <th>condominio_reais</th>\n",
       "    </tr>\n",
       "  </thead>\n",
       "  <tbody>\n",
       "    <tr>\n",
       "      <th>0</th>\n",
       "      <td>1018</td>\n",
       "      <td>31</td>\n",
       "      <td>1</td>\n",
       "      <td>1</td>\n",
       "      <td>240</td>\n",
       "    </tr>\n",
       "    <tr>\n",
       "      <th>1</th>\n",
       "      <td>1035</td>\n",
       "      <td>80</td>\n",
       "      <td>2</td>\n",
       "      <td>1</td>\n",
       "      <td>240</td>\n",
       "    </tr>\n",
       "    <tr>\n",
       "      <th>2</th>\n",
       "      <td>1438</td>\n",
       "      <td>78</td>\n",
       "      <td>2</td>\n",
       "      <td>1</td>\n",
       "      <td>258</td>\n",
       "    </tr>\n",
       "    <tr>\n",
       "      <th>3</th>\n",
       "      <td>1990</td>\n",
       "      <td>112</td>\n",
       "      <td>2</td>\n",
       "      <td>3</td>\n",
       "      <td>900</td>\n",
       "    </tr>\n",
       "    <tr>\n",
       "      <th>4</th>\n",
       "      <td>2272</td>\n",
       "      <td>93</td>\n",
       "      <td>3</td>\n",
       "      <td>3</td>\n",
       "      <td>771</td>\n",
       "    </tr>\n",
       "  </tbody>\n",
       "</table>\n",
       "</div>"
      ],
      "text/plain": [
       "   aluguel_reais  area_m2  n_quartos  banheiros  condominio_reais\n",
       "0           1018       31          1          1               240\n",
       "1           1035       80          2          1               240\n",
       "2           1438       78          2          1               258\n",
       "3           1990      112          2          3               900\n",
       "4           2272       93          3          3               771"
      ]
     },
     "execution_count": 2,
     "metadata": {},
     "output_type": "execute_result"
    }
   ],
   "source": [
    "pd.read_csv('aluguel_aps.csv') # Importando arquivo csv\n",
    "df = pd.read_csv('aluguel_aps.csv') # Criando DataFrame\n",
    "df.head() # Exibindo primeiras linhas"
   ]
  },
  {
   "cell_type": "markdown",
   "metadata": {},
   "source": [
    "<br>"
   ]
  },
  {
   "cell_type": "markdown",
   "metadata": {},
   "source": [
    "#### Explorando os Dados\n",
    "\n",
    "Antes de realizar qualquer análise é importante primeiro entender o conjunto de dados a ser trabalhado atarvés de uma visão exploratória."
   ]
  },
  {
   "cell_type": "code",
   "execution_count": 3,
   "metadata": {
    "scrolled": true
   },
   "outputs": [
    {
     "name": "stdout",
     "output_type": "stream",
     "text": [
      "<class 'pandas.core.frame.DataFrame'>\n",
      "RangeIndex: 58 entries, 0 to 57\n",
      "Data columns (total 5 columns):\n",
      " #   Column            Non-Null Count  Dtype\n",
      "---  ------            --------------  -----\n",
      " 0   aluguel_reais     58 non-null     int64\n",
      " 1   area_m2           58 non-null     int64\n",
      " 2   n_quartos         58 non-null     int64\n",
      " 3   banheiros         58 non-null     int64\n",
      " 4   condominio_reais  58 non-null     int64\n",
      "dtypes: int64(5)\n",
      "memory usage: 2.4 KB\n"
     ]
    }
   ],
   "source": [
    "df.info() # Exibindo informações do conjunto de dados"
   ]
  },
  {
   "cell_type": "markdown",
   "metadata": {},
   "source": [
    "+ O arquivo possui 58 linhas e 5 colunas\n",
    "+ Todas as colunas possuem dados com números inteiros(float64)\n",
    "+ Não há dados nulos\n",
    "+ O tamanho do arquivo é de 2.4KB"
   ]
  },
  {
   "cell_type": "code",
   "execution_count": 4,
   "metadata": {
    "scrolled": true
   },
   "outputs": [
    {
     "data": {
      "text/html": [
       "<div>\n",
       "<style scoped>\n",
       "    .dataframe tbody tr th:only-of-type {\n",
       "        vertical-align: middle;\n",
       "    }\n",
       "\n",
       "    .dataframe tbody tr th {\n",
       "        vertical-align: top;\n",
       "    }\n",
       "\n",
       "    .dataframe thead th {\n",
       "        text-align: right;\n",
       "    }\n",
       "</style>\n",
       "<table border=\"1\" class=\"dataframe\">\n",
       "  <thead>\n",
       "    <tr style=\"text-align: right;\">\n",
       "      <th></th>\n",
       "      <th>aluguel_reais</th>\n",
       "      <th>area_m2</th>\n",
       "      <th>n_quartos</th>\n",
       "      <th>banheiros</th>\n",
       "      <th>condominio_reais</th>\n",
       "    </tr>\n",
       "  </thead>\n",
       "  <tbody>\n",
       "    <tr>\n",
       "      <th>count</th>\n",
       "      <td>58.000000</td>\n",
       "      <td>58.000000</td>\n",
       "      <td>58.000000</td>\n",
       "      <td>58.000000</td>\n",
       "      <td>58.000000</td>\n",
       "    </tr>\n",
       "    <tr>\n",
       "      <th>mean</th>\n",
       "      <td>1416.896552</td>\n",
       "      <td>78.810345</td>\n",
       "      <td>2.017241</td>\n",
       "      <td>1.655172</td>\n",
       "      <td>449.103448</td>\n",
       "    </tr>\n",
       "    <tr>\n",
       "      <th>std</th>\n",
       "      <td>369.528514</td>\n",
       "      <td>33.638145</td>\n",
       "      <td>0.783411</td>\n",
       "      <td>0.738698</td>\n",
       "      <td>295.546339</td>\n",
       "    </tr>\n",
       "    <tr>\n",
       "      <th>min</th>\n",
       "      <td>791.000000</td>\n",
       "      <td>31.000000</td>\n",
       "      <td>1.000000</td>\n",
       "      <td>1.000000</td>\n",
       "      <td>148.000000</td>\n",
       "    </tr>\n",
       "    <tr>\n",
       "      <th>25%</th>\n",
       "      <td>1094.250000</td>\n",
       "      <td>57.750000</td>\n",
       "      <td>2.000000</td>\n",
       "      <td>1.000000</td>\n",
       "      <td>240.000000</td>\n",
       "    </tr>\n",
       "    <tr>\n",
       "      <th>50%</th>\n",
       "      <td>1438.500000</td>\n",
       "      <td>72.500000</td>\n",
       "      <td>2.000000</td>\n",
       "      <td>1.500000</td>\n",
       "      <td>332.500000</td>\n",
       "    </tr>\n",
       "    <tr>\n",
       "      <th>75%</th>\n",
       "      <td>1690.000000</td>\n",
       "      <td>92.500000</td>\n",
       "      <td>2.000000</td>\n",
       "      <td>2.000000</td>\n",
       "      <td>600.000000</td>\n",
       "    </tr>\n",
       "    <tr>\n",
       "      <th>max</th>\n",
       "      <td>2272.000000</td>\n",
       "      <td>207.000000</td>\n",
       "      <td>5.000000</td>\n",
       "      <td>3.000000</td>\n",
       "      <td>1800.000000</td>\n",
       "    </tr>\n",
       "  </tbody>\n",
       "</table>\n",
       "</div>"
      ],
      "text/plain": [
       "       aluguel_reais     area_m2  n_quartos  banheiros  condominio_reais\n",
       "count      58.000000   58.000000  58.000000  58.000000         58.000000\n",
       "mean     1416.896552   78.810345   2.017241   1.655172        449.103448\n",
       "std       369.528514   33.638145   0.783411   0.738698        295.546339\n",
       "min       791.000000   31.000000   1.000000   1.000000        148.000000\n",
       "25%      1094.250000   57.750000   2.000000   1.000000        240.000000\n",
       "50%      1438.500000   72.500000   2.000000   1.500000        332.500000\n",
       "75%      1690.000000   92.500000   2.000000   2.000000        600.000000\n",
       "max      2272.000000  207.000000   5.000000   3.000000       1800.000000"
      ]
     },
     "execution_count": 4,
     "metadata": {},
     "output_type": "execute_result"
    }
   ],
   "source": [
    "df.describe() # Estatística descritva dos dados"
   ]
  },
  {
   "cell_type": "markdown",
   "metadata": {},
   "source": [
    "<br>"
   ]
  },
  {
   "cell_type": "markdown",
   "metadata": {},
   "source": [
    "#### Visualização das Variáveis \n",
    "Traçando gráficos de linhas de todas as variáveis em relação ao aluguel dos apartamentos para saber se  há correlação entre os diferentes recursos."
   ]
  },
  {
   "cell_type": "code",
   "execution_count": 5,
   "metadata": {},
   "outputs": [
    {
     "data": {
      "image/png": "[encoded data removed]",
      "text/plain": [
       "<Figure size 1296x720 with 5 Axes>"
      ]
     },
     "metadata": {
      "needs_background": "light"
     },
     "output_type": "display_data"
    }
   ],
   "source": [
    "plt.figure(1, figsize=(18,10))\n",
    "n = 0\n",
    "for x in ['aluguel_reais']:\n",
    "    for y in ['aluguel_reais','area_m2', 'n_quartos', 'banheiros', 'condominio_reais']:\n",
    "        n += 1\n",
    "        plt.subplot(3 , 3, n )\n",
    "        plt.subplots_adjust(hspace = 0.3 , wspace = 0.3)\n",
    "        sns.regplot(x = x , y = y , data = df)\n",
    "        plt.ylabel(y.split()[0]+' '+y.split()[1] if len(y.split()) > 1 else y )\n",
    "plt.show()"
   ]
  },
  {
   "cell_type": "markdown",
   "metadata": {},
   "source": [
    "Os gráficos sobre os atributos área e condomínio exibem boa correlação linear com o valor dos aluguéis, já as demais variáveis não apresentam uma correlação adequada para compor os agrupamentos. A quantidade de quartos e banheiros não parecem estar relacionada de forma siginificativa com o valor dos aluguéis."
   ]
  },
  {
   "cell_type": "markdown",
   "metadata": {},
   "source": [
    "<br>"
   ]
  },
  {
   "cell_type": "markdown",
   "metadata": {},
   "source": [
    "#### Realizando a Modelagem"
   ]
  },
  {
   "cell_type": "markdown",
   "metadata": {},
   "source": [
    "Para saber qual a quantidade de cluster mais adequada, é necessário ter um bom parâmetro. O método Elbow é usado na determinação do número de clusters em um conjunto de dados. Esse método consiste em plotar a variação explicada em função da quantidade de clusters e escolher o cotovelo da curva como o número de clusters a serem usados."
   ]
  },
  {
   "cell_type": "markdown",
   "metadata": {},
   "source": [
    "Aplicando o método Elbow junto as váriaveis que melhor se adequam aos clusters, são elas: \"aluguel_reais\", \"area_m2\" e \"condominio_reais\"."
   ]
  },
  {
   "cell_type": "code",
   "execution_count": 6,
   "metadata": {
    "scrolled": false
   },
   "outputs": [
    {
     "data": {
      "text/plain": [
       "[<matplotlib.lines.Line2D at 0xcbedf40>]"
      ]
     },
     "execution_count": 6,
     "metadata": {},
     "output_type": "execute_result"
    },
    {
     "data": {
      "image/png": "[encoded data removed]",
      "text/plain": [
       "<Figure size 720x432 with 1 Axes>"
      ]
     },
     "metadata": {
      "needs_background": "light"
     },
     "output_type": "display_data"
    }
   ],
   "source": [
    "sse = []\n",
    "for k in range(1,9):\n",
    "    km = KMeans(n_clusters=k)\n",
    "    km.fit(df[['aluguel_reais','area_m2', 'condominio_reais']])\n",
    "    sse.append(km.inertia_)\n",
    "\n",
    "plt.figure(1 , figsize = (10 ,6))\n",
    "plt.plot(range(1,9), sse, 'bo-')\n",
    "plt.title('Método Elbow\\n', loc='center', fontsize=15)\n",
    "plt.xlabel('Número de Clusters')\n",
    "plt.ylabel('Soma do Erro Quadrático')\n",
    "plt.grid()\n",
    "plt.plot(range(1,9), sse)"
   ]
  },
  {
   "cell_type": "markdown",
   "metadata": {},
   "source": [
    "O gráfico acima é o resultado da execução do agrupamento K-Means no conjunto de dados do treino com valores de k correspondentes ao tamanho do conjunto de dados. Nesse conjunto de dados o cotovelo da curva é em torno de k = 3, o que significa que vamos gerar três grupos a partir do nosso modelo."
   ]
  },
  {
   "cell_type": "markdown",
   "metadata": {},
   "source": [
    "<br>"
   ]
  },
  {
   "cell_type": "markdown",
   "metadata": {},
   "source": [
    "Criando uma instância do modelo K-Means para encontrar três clusters."
   ]
  },
  {
   "cell_type": "code",
   "execution_count": 7,
   "metadata": {
    "scrolled": true
   },
   "outputs": [],
   "source": [
    "km = KMeans(n_clusters=3)"
   ]
  },
  {
   "cell_type": "markdown",
   "metadata": {},
   "source": [
    "Agrupando as previsões do conjunto de dados com \"fit_predict\"."
   ]
  },
  {
   "cell_type": "code",
   "execution_count": 8,
   "metadata": {},
   "outputs": [
    {
     "data": {
      "text/plain": [
       "array([0, 0, 2, 1, 1, 0, 1, 0, 1, 1, 2, 0, 0, 2, 2, 0, 0, 0, 2, 2, 1, 2,\n",
       "       2, 0, 2, 0, 2, 0, 0, 0, 0, 2, 2, 0, 2, 2, 0, 2, 1, 0, 1, 0, 2, 1,\n",
       "       1, 0, 2, 2, 0, 0, 2, 2, 2, 1, 1, 2, 0, 2])"
      ]
     },
     "execution_count": 8,
     "metadata": {},
     "output_type": "execute_result"
    }
   ],
   "source": [
    "clusters = km.fit_predict(df[['aluguel_reais', 'area_m2',  'condominio_reais']])\n",
    "clusters"
   ]
  },
  {
   "cell_type": "markdown",
   "metadata": {},
   "source": [
    "Armazenando os clusters criados junto ao conjunto de dados."
   ]
  },
  {
   "cell_type": "code",
   "execution_count": 9,
   "metadata": {
    "scrolled": true
   },
   "outputs": [
    {
     "data": {
      "text/html": [
       "<div>\n",
       "<style scoped>\n",
       "    .dataframe tbody tr th:only-of-type {\n",
       "        vertical-align: middle;\n",
       "    }\n",
       "\n",
       "    .dataframe tbody tr th {\n",
       "        vertical-align: top;\n",
       "    }\n",
       "\n",
       "    .dataframe thead th {\n",
       "        text-align: right;\n",
       "    }\n",
       "</style>\n",
       "<table border=\"1\" class=\"dataframe\">\n",
       "  <thead>\n",
       "    <tr style=\"text-align: right;\">\n",
       "      <th></th>\n",
       "      <th>aluguel_reais</th>\n",
       "      <th>area_m2</th>\n",
       "      <th>n_quartos</th>\n",
       "      <th>banheiros</th>\n",
       "      <th>condominio_reais</th>\n",
       "      <th>clusters</th>\n",
       "    </tr>\n",
       "  </thead>\n",
       "  <tbody>\n",
       "    <tr>\n",
       "      <th>0</th>\n",
       "      <td>1018</td>\n",
       "      <td>31</td>\n",
       "      <td>1</td>\n",
       "      <td>1</td>\n",
       "      <td>240</td>\n",
       "      <td>0</td>\n",
       "    </tr>\n",
       "    <tr>\n",
       "      <th>1</th>\n",
       "      <td>1035</td>\n",
       "      <td>80</td>\n",
       "      <td>2</td>\n",
       "      <td>1</td>\n",
       "      <td>240</td>\n",
       "      <td>0</td>\n",
       "    </tr>\n",
       "    <tr>\n",
       "      <th>2</th>\n",
       "      <td>1438</td>\n",
       "      <td>78</td>\n",
       "      <td>2</td>\n",
       "      <td>1</td>\n",
       "      <td>258</td>\n",
       "      <td>2</td>\n",
       "    </tr>\n",
       "    <tr>\n",
       "      <th>3</th>\n",
       "      <td>1990</td>\n",
       "      <td>112</td>\n",
       "      <td>2</td>\n",
       "      <td>3</td>\n",
       "      <td>900</td>\n",
       "      <td>1</td>\n",
       "    </tr>\n",
       "    <tr>\n",
       "      <th>4</th>\n",
       "      <td>2272</td>\n",
       "      <td>93</td>\n",
       "      <td>3</td>\n",
       "      <td>3</td>\n",
       "      <td>771</td>\n",
       "      <td>1</td>\n",
       "    </tr>\n",
       "  </tbody>\n",
       "</table>\n",
       "</div>"
      ],
      "text/plain": [
       "   aluguel_reais  area_m2  n_quartos  banheiros  condominio_reais  clusters\n",
       "0           1018       31          1          1               240         0\n",
       "1           1035       80          2          1               240         0\n",
       "2           1438       78          2          1               258         2\n",
       "3           1990      112          2          3               900         1\n",
       "4           2272       93          3          3               771         1"
      ]
     },
     "execution_count": 9,
     "metadata": {},
     "output_type": "execute_result"
    }
   ],
   "source": [
    "df['clusters'] = clusters\n",
    "df.head()"
   ]
  },
  {
   "cell_type": "markdown",
   "metadata": {},
   "source": [
    "O K-Means agrupa dados tentando separar amostras em n grupos de variâncias iguais, fazendo com os clusters sejam internamente coerentes. Os meios desses grupos são chamados de centróides, o K-Means visa escolher centróides que minimizem a soma dos quadrados dentro do cluster."
   ]
  },
  {
   "cell_type": "code",
   "execution_count": 10,
   "metadata": {
    "scrolled": false
   },
   "outputs": [
    {
     "data": {
      "text/plain": [
       "array([[1037.39130435,   58.39130435,  297.69565217],\n",
       "       [1926.5       ,  117.75      ,  871.75      ],\n",
       "       [1530.52173913,   78.91304348,  380.        ]])"
      ]
     },
     "execution_count": 10,
     "metadata": {},
     "output_type": "execute_result"
    }
   ],
   "source": [
    "km.cluster_centers_"
   ]
  },
  {
   "cell_type": "markdown",
   "metadata": {},
   "source": [
    "<br>"
   ]
  },
  {
   "cell_type": "markdown",
   "metadata": {},
   "source": [
    "#### Visualizando os Clusters\n",
    "Exibindo os agrupamentos gerados com modelo K-Means em um gráfico de disperssão tendo as variáveis aluguel e área eixos."
   ]
  },
  {
   "cell_type": "code",
   "execution_count": 13,
   "metadata": {},
   "outputs": [
    {
     "data": {
      "text/plain": [
       "Text(0, 0.5, 'Aluguel (R$)')"
      ]
     },
     "execution_count": 13,
     "metadata": {},
     "output_type": "execute_result"
    },
    {
     "data": {
      "image/png": "[encoded data removed]",
      "text/plain": [
       "<Figure size 720x432 with 1 Axes>"
      ]
     },
     "metadata": {
      "needs_background": "light"
     },
     "output_type": "display_data"
    }
   ],
   "source": [
    "df1 = df[df.clusters==0]\n",
    "df2 = df[df.clusters==1]\n",
    "df3 = df[df.clusters==2]\n",
    "\n",
    "plt.figure(1, figsize=(10,6))\n",
    "\n",
    "plt.scatter(df1['area_m2'], df1['aluguel_reais'], c='purple', s=25, label='Cluster 0')\n",
    "plt.scatter(df2['area_m2'], df2['aluguel_reais'], c='gold', s=25, label='Cluster 1')\n",
    "plt.scatter(df3['area_m2'], df3['aluguel_reais'], c='green', s=25,label='Cluster 2')\n",
    "\n",
    "plt.scatter(km.cluster_centers_[:,1], km.cluster_centers_[:,0], c='red', marker='*', s=70, label='Centróide')\n",
    "plt.legend()\n",
    "\n",
    "plt.title('Clusters Gerados\\n', loc='center', fontsize=15)\n",
    "plt.xlabel('Área (m²)')\n",
    "plt.ylabel('Aluguel (R$)')"
   ]
  },
  {
   "cell_type": "markdown",
   "metadata": {},
   "source": [
    "Os clusters 0 e 1 mostram uma diferenciação siginificativa em todos os atributos, principalmente em relação ao valor dos aluguéis e área dos apartamentos. O grupo 1 apresenta amostras com áreas dos imóveis presentes nos outros dois clusters, se diferenciando quanto ao valor dos aluguéis."
   ]
  },
  {
   "cell_type": "markdown",
   "metadata": {},
   "source": [
    "<br>"
   ]
  },
  {
   "cell_type": "markdown",
   "metadata": {},
   "source": [
    "### Conclusões"
   ]
  },
  {
   "cell_type": "markdown",
   "metadata": {},
   "source": [
    "+ A partir da análise exploratória do conjunto de dados, foram escohidos os atributos que mais apresentaram adecuação para compor a modelagem do algoritimo K-Means. Esses atributos foram: \"Valor do Aluguel\", \"Área do Imóvel\" e \"Valor do Condomínio\".\n",
    "\n",
    "\n",
    "+ A quantide de grupos foi escolhida por meio da utilização do método Elbow, que apontou o número de três clusters como o ideal.\n",
    "\n",
    "\n",
    "+ Os resultados da distribuição dos clusters apontam que os clusters 0 e 1 são diferentes em todos atributos, sobretudo nos valores dos aluguéis e tamanho dos imóveis. O grupo 1 abrange caracteristicas similares de parte dos outros dois clusters, mas tendo ao valor dos aluguéis distinto entre os três grupos.\n",
    "\n",
    "\n",
    "+ Os clusters gerados pelo modelo K-Means mostraram que podem auxiliar as pessoas a identificar grupos semelhantes de apartamentos para alugar, sendo possível realizar uma escolha de forma mais prática. Um bom exemplo, é quem procura por um apartamento com uma área maior e com um aluguel mais em conta no bairro Menino Deus, perceberá que existem imóveis disponiveis no grupo 1 com áreas semhelhantes ao do grupo 2, mas com alguéis bem menores."
   ]
  },
  {
   "cell_type": "markdown",
   "metadata": {},
   "source": [
    "<br>"
   ]
  }
 ],
 "metadata": {
  "celltoolbar": "Raw Cell Format",
  "kernelspec": {
   "display_name": "Python 3",
   "language": "python",
   "name": "python3"
  },
  "language_info": {
   "codemirror_mode": {
    "name": "ipython",
    "version": 3
   },
   "file_extension": ".py",
   "mimetype": "text/x-python",
   "name": "python",
   "nbconvert_exporter": "python",
   "pygments_lexer": "ipython3",
   "version": "3.8.5"
  }
 },
 "nbformat": 4,
 "nbformat_minor": 4
}
