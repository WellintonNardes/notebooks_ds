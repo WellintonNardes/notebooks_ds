{
 "cells": [
  {
   "cell_type": "markdown",
   "metadata": {},
   "source": [
    "# Análise da Ocupação e Preço de Anúncios no Airbnb"
   ]
  },
  {
   "cell_type": "markdown",
   "metadata": {},
   "source": [
    "## O Airbnb\n",
    "É um serviço oferecido como uma plataforma de aluguel de hospedagens, que possibilita que as pessoas ofereçam ou reservem acomodações ao pelo mundo todo. Essa plataforma possui como uma de suas características, oferecer alternativas às hospedagens tradicionais, como casas e apartamentos presentes em bairros residenciais no Brasil e em diverssos países. De acordo com a cidade, período de locação e da opção escolhida, é possível ter uma hospedagem muito mais em conta do que em hoteis."
   ]
  },
  {
   "cell_type": "markdown",
   "metadata": {},
   "source": [
    "## Sobre os Dados\n",
    "O município brasileiro de Florianópolis-SC é muito procurado por turistas de todos os lugares, onde os serviços do Arbnb também recebem muita procura. A partir de um conjunto de dados do Airbnb referente a alguns bairros de Florianópolis, que contém informações sobre ocupação e anúncios, é que serão respondidas algumas questões através da Análise de Dados.\n",
    "\n",
    "A Análise de Dados é uma forma de utilizar de técnicas estatísticas e lógicas para avaliar informações obtidas por meio de determinados processos. Obter informações úteis a partir dos dados é o principal objetivo dessa prática. Por meio destas informações, pode-se tomar decisões mais assertivas e orientadas para resultados. \n"
   ]
  },
  {
   "cell_type": "markdown",
   "metadata": {},
   "source": [
    "## Questões a Serem Respondidas\n",
    "\n",
    "1) Ordenar os bairros em ordem crescente de número de listings(anúncios).\n",
    "\n",
    "2) Ordenar os bairros em ordem crescente de faturamento(soma do preço das datas alugadas) médio dos listings.\n",
    "\n",
    "3) Existem correlações entre as características de um anúncio e seu faturamento? Quais? Explique.\n",
    "\n",
    "4) Qual a antecedência média das reservas? Esse número é maior ou menor para finais de semana?\n"
   ]
  },
  {
   "cell_type": "markdown",
   "metadata": {},
   "source": [
    "### Importando as Bibliotecas Necessárias"
   ]
  },
  {
   "cell_type": "code",
   "execution_count": 1,
   "metadata": {},
   "outputs": [],
   "source": [
    "import pandas as pd  \n",
    "import numpy as np  \n",
    "from datetime import datetime \n",
    "import matplotlib.pyplot as plt\n",
    "import seaborn as sns \n",
    "%matplotlib inline "
   ]
  },
  {
   "cell_type": "markdown",
   "metadata": {},
   "source": [
    "### Importando os Arquivos csv e Criando os DataFrames"
   ]
  },
  {
   "cell_type": "code",
   "execution_count": 2,
   "metadata": {},
   "outputs": [],
   "source": [
    "df1 = pd.read_csv('desafio_priceav.csv')\n",
    "df2 = pd.read_csv('desafio_details.csv')"
   ]
  },
  {
   "cell_type": "markdown",
   "metadata": {},
   "source": [
    "Visualizando as três primeiras linhas dos dois DataFrames."
   ]
  },
  {
   "cell_type": "code",
   "execution_count": 3,
   "metadata": {
    "scrolled": true
   },
   "outputs": [
    {
     "data": {
      "text/html": [
       "<div>\n",
       "<style scoped>\n",
       "    .dataframe tbody tr th:only-of-type {\n",
       "        vertical-align: middle;\n",
       "    }\n",
       "\n",
       "    .dataframe tbody tr th {\n",
       "        vertical-align: top;\n",
       "    }\n",
       "\n",
       "    .dataframe thead th {\n",
       "        text-align: right;\n",
       "    }\n",
       "</style>\n",
       "<table border=\"1\" class=\"dataframe\">\n",
       "  <thead>\n",
       "    <tr style=\"text-align: right;\">\n",
       "      <th></th>\n",
       "      <th>Unnamed: 0</th>\n",
       "      <th>Unnamed: 0.1</th>\n",
       "      <th>airbnb_listing_id</th>\n",
       "      <th>booked_on</th>\n",
       "      <th>date</th>\n",
       "      <th>price_string</th>\n",
       "      <th>occupied</th>\n",
       "    </tr>\n",
       "  </thead>\n",
       "  <tbody>\n",
       "    <tr>\n",
       "      <th>0</th>\n",
       "      <td>0</td>\n",
       "      <td>2148</td>\n",
       "      <td>40201349</td>\n",
       "      <td>blank</td>\n",
       "      <td>2020-11-15</td>\n",
       "      <td>250.0</td>\n",
       "      <td>0</td>\n",
       "    </tr>\n",
       "    <tr>\n",
       "      <th>1</th>\n",
       "      <td>1</td>\n",
       "      <td>2159</td>\n",
       "      <td>40201349</td>\n",
       "      <td>blank</td>\n",
       "      <td>2020-11-26</td>\n",
       "      <td>250.0</td>\n",
       "      <td>0</td>\n",
       "    </tr>\n",
       "    <tr>\n",
       "      <th>2</th>\n",
       "      <td>2</td>\n",
       "      <td>2160</td>\n",
       "      <td>40201349</td>\n",
       "      <td>blank</td>\n",
       "      <td>2020-11-27</td>\n",
       "      <td>250.0</td>\n",
       "      <td>0</td>\n",
       "    </tr>\n",
       "  </tbody>\n",
       "</table>\n",
       "</div>"
      ],
      "text/plain": [
       "   Unnamed: 0  Unnamed: 0.1  airbnb_listing_id booked_on        date  \\\n",
       "0           0          2148           40201349     blank  2020-11-15   \n",
       "1           1          2159           40201349     blank  2020-11-26   \n",
       "2           2          2160           40201349     blank  2020-11-27   \n",
       "\n",
       "   price_string  occupied  \n",
       "0         250.0         0  \n",
       "1         250.0         0  \n",
       "2         250.0         0  "
      ]
     },
     "execution_count": 3,
     "metadata": {},
     "output_type": "execute_result"
    }
   ],
   "source": [
    "df1.head(3)"
   ]
  },
  {
   "cell_type": "code",
   "execution_count": 4,
   "metadata": {
    "scrolled": true
   },
   "outputs": [
    {
     "data": {
      "text/html": [
       "<div>\n",
       "<style scoped>\n",
       "    .dataframe tbody tr th:only-of-type {\n",
       "        vertical-align: middle;\n",
       "    }\n",
       "\n",
       "    .dataframe tbody tr th {\n",
       "        vertical-align: top;\n",
       "    }\n",
       "\n",
       "    .dataframe thead th {\n",
       "        text-align: right;\n",
       "    }\n",
       "</style>\n",
       "<table border=\"1\" class=\"dataframe\">\n",
       "  <thead>\n",
       "    <tr style=\"text-align: right;\">\n",
       "      <th></th>\n",
       "      <th>Unnamed: 0</th>\n",
       "      <th>airbnb_listing_id</th>\n",
       "      <th>suburb</th>\n",
       "      <th>ad_name</th>\n",
       "      <th>number_of_bedrooms</th>\n",
       "      <th>number_of_bathrooms</th>\n",
       "      <th>star_rating</th>\n",
       "      <th>is_superhost</th>\n",
       "      <th>number_of_reviews</th>\n",
       "    </tr>\n",
       "  </thead>\n",
       "  <tbody>\n",
       "    <tr>\n",
       "      <th>0</th>\n",
       "      <td>0</td>\n",
       "      <td>31389869</td>\n",
       "      <td>Jurerê</td>\n",
       "      <td>Lindo Apartamento em Jurerê</td>\n",
       "      <td>2.0</td>\n",
       "      <td>2.0</td>\n",
       "      <td>5.0</td>\n",
       "      <td>False</td>\n",
       "      <td>15.0</td>\n",
       "    </tr>\n",
       "    <tr>\n",
       "      <th>1</th>\n",
       "      <td>1</td>\n",
       "      <td>40010667</td>\n",
       "      <td>Canasvieiras</td>\n",
       "      <td>Residencial Arruda, 1 quarto</td>\n",
       "      <td>1.0</td>\n",
       "      <td>1.0</td>\n",
       "      <td>NaN</td>\n",
       "      <td>False</td>\n",
       "      <td>0.0</td>\n",
       "    </tr>\n",
       "    <tr>\n",
       "      <th>2</th>\n",
       "      <td>2</td>\n",
       "      <td>38905997</td>\n",
       "      <td>Ingleses</td>\n",
       "      <td>Apartamento NOVO Completo - Moderno e Sofisticado</td>\n",
       "      <td>1.0</td>\n",
       "      <td>1.0</td>\n",
       "      <td>4.5</td>\n",
       "      <td>True</td>\n",
       "      <td>13.0</td>\n",
       "    </tr>\n",
       "  </tbody>\n",
       "</table>\n",
       "</div>"
      ],
      "text/plain": [
       "   Unnamed: 0  airbnb_listing_id        suburb  \\\n",
       "0           0           31389869        Jurerê   \n",
       "1           1           40010667  Canasvieiras   \n",
       "2           2           38905997      Ingleses   \n",
       "\n",
       "                                             ad_name  number_of_bedrooms  \\\n",
       "0                        Lindo Apartamento em Jurerê                 2.0   \n",
       "1                       Residencial Arruda, 1 quarto                 1.0   \n",
       "2  Apartamento NOVO Completo - Moderno e Sofisticado                 1.0   \n",
       "\n",
       "   number_of_bathrooms  star_rating  is_superhost  number_of_reviews  \n",
       "0                  2.0          5.0         False               15.0  \n",
       "1                  1.0          NaN         False                0.0  \n",
       "2                  1.0          4.5          True               13.0  "
      ]
     },
     "execution_count": 4,
     "metadata": {},
     "output_type": "execute_result"
    }
   ],
   "source": [
    "df2.head(3)"
   ]
  },
  {
   "cell_type": "code",
   "execution_count": null,
   "metadata": {},
   "outputs": [],
   "source": []
  },
  {
   "cell_type": "markdown",
   "metadata": {},
   "source": [
    "### Explorando os Conjuntos de Dados\n",
    "A visão exploratória feita previamente auxilia na realização de qualquer análise e um conjunto de dados."
   ]
  },
  {
   "cell_type": "code",
   "execution_count": 5,
   "metadata": {
    "scrolled": true
   },
   "outputs": [
    {
     "name": "stdout",
     "output_type": "stream",
     "text": [
      "<class 'pandas.core.frame.DataFrame'>\n",
      "RangeIndex: 354520 entries, 0 to 354519\n",
      "Data columns (total 7 columns):\n",
      " #   Column             Non-Null Count   Dtype  \n",
      "---  ------             --------------   -----  \n",
      " 0   Unnamed: 0         354520 non-null  int64  \n",
      " 1   Unnamed: 0.1       354520 non-null  int64  \n",
      " 2   airbnb_listing_id  354520 non-null  int64  \n",
      " 3   booked_on          354520 non-null  object \n",
      " 4   date               354520 non-null  object \n",
      " 5   price_string       354520 non-null  float64\n",
      " 6   occupied           354520 non-null  int64  \n",
      "dtypes: float64(1), int64(4), object(2)\n",
      "memory usage: 18.9+ MB\n"
     ]
    }
   ],
   "source": [
    "df1.info()"
   ]
  },
  {
   "cell_type": "markdown",
   "metadata": {},
   "source": [
    "df1:\n",
    "+ O arquivo possui 354520 linhas e 7 colunas\n",
    "+ Quatro colunas possuem valores do tipo inteiros(int64)\n",
    "+ Duas colunas apresentam dados do tipo categórico(object)\n",
    "+ Apenas uma coluna possui dados do tipo pontos flutuantes(float64)\n",
    "+ Não há dados nulos\n",
    "+ O tamanho do arquivo é de 9.5KB"
   ]
  },
  {
   "cell_type": "code",
   "execution_count": 6,
   "metadata": {
    "scrolled": true
   },
   "outputs": [
    {
     "name": "stdout",
     "output_type": "stream",
     "text": [
      "<class 'pandas.core.frame.DataFrame'>\n",
      "RangeIndex: 4691 entries, 0 to 4690\n",
      "Data columns (total 9 columns):\n",
      " #   Column               Non-Null Count  Dtype  \n",
      "---  ------               --------------  -----  \n",
      " 0   Unnamed: 0           4691 non-null   int64  \n",
      " 1   airbnb_listing_id    4691 non-null   int64  \n",
      " 2   suburb               4691 non-null   object \n",
      " 3   ad_name              4691 non-null   object \n",
      " 4   number_of_bedrooms   4508 non-null   float64\n",
      " 5   number_of_bathrooms  4690 non-null   float64\n",
      " 6   star_rating          2570 non-null   float64\n",
      " 7   is_superhost         4691 non-null   bool   \n",
      " 8   number_of_reviews    4684 non-null   float64\n",
      "dtypes: bool(1), float64(4), int64(2), object(2)\n",
      "memory usage: 297.9+ KB\n"
     ]
    }
   ],
   "source": [
    "df2.info()"
   ]
  },
  {
   "cell_type": "markdown",
   "metadata": {},
   "source": [
    "df2:\n",
    "+ O arquivo possui 4691 linhas e 9 colunas\n",
    "+ Quatro colunas apresentam dados do tipo pontos flutuantes(float64)\n",
    "+ Duas colunas possuem valores do tipo inteiros(int64)\n",
    "+ Outras duas colunas contém dados do tipo categóricos(object)\n",
    "+ Uma das colunas traz dados do tipo booleanos(bool)\n",
    "+ Quatro colunas mostram um número linhas menor que 4691, indicativo de valores nulos\n",
    "+ O tamanho do arquivo é de 9.5KB"
   ]
  },
  {
   "cell_type": "markdown",
   "metadata": {},
   "source": [
    "Conferindo os dados nulos presentes no df2 através da soma desses valores em cada coluna."
   ]
  },
  {
   "cell_type": "code",
   "execution_count": 7,
   "metadata": {
    "scrolled": true
   },
   "outputs": [
    {
     "data": {
      "text/plain": [
       "Unnamed: 0                0\n",
       "airbnb_listing_id         0\n",
       "suburb                    0\n",
       "ad_name                   0\n",
       "number_of_bedrooms      183\n",
       "number_of_bathrooms       1\n",
       "star_rating            2121\n",
       "is_superhost              0\n",
       "number_of_reviews         7\n",
       "dtype: int64"
      ]
     },
     "execution_count": 7,
     "metadata": {},
     "output_type": "execute_result"
    }
   ],
   "source": [
    "df2.isnull().sum()"
   ]
  },
  {
   "cell_type": "markdown",
   "metadata": {},
   "source": [
    "A coluna \"star_rating\" possui uma grande quantidade de valores nulos(2121), seguida de \"number_of_bedrooms\"(183), \"number_of_reviews\" com 7 e \"number_of_bathrooms\" com apenas 1 valor nulo."
   ]
  },
  {
   "cell_type": "markdown",
   "metadata": {},
   "source": [
    "Para responder as questões dessa análise, ambos arquivos devem ser analisados em um mesmo DataFrame. Isso é possivel de ser realizado, pois as duas tabelas possuem uma coluna com o identificador do anúncio em comum(airbnb_listing_id). Esse idenficador é será o elo entre as duas tabelas."
   ]
  },
  {
   "cell_type": "markdown",
   "metadata": {},
   "source": [
    "#### Unindo os Dois Arquivos em Único DataFrame"
   ]
  },
  {
   "cell_type": "code",
   "execution_count": 8,
   "metadata": {
    "scrolled": true
   },
   "outputs": [
    {
     "data": {
      "text/html": [
       "<div>\n",
       "<style scoped>\n",
       "    .dataframe tbody tr th:only-of-type {\n",
       "        vertical-align: middle;\n",
       "    }\n",
       "\n",
       "    .dataframe tbody tr th {\n",
       "        vertical-align: top;\n",
       "    }\n",
       "\n",
       "    .dataframe thead th {\n",
       "        text-align: right;\n",
       "    }\n",
       "</style>\n",
       "<table border=\"1\" class=\"dataframe\">\n",
       "  <thead>\n",
       "    <tr style=\"text-align: right;\">\n",
       "      <th></th>\n",
       "      <th>Unnamed: 0_x</th>\n",
       "      <th>Unnamed: 0.1</th>\n",
       "      <th>airbnb_listing_id</th>\n",
       "      <th>booked_on</th>\n",
       "      <th>date</th>\n",
       "      <th>price_string</th>\n",
       "      <th>occupied</th>\n",
       "      <th>Unnamed: 0_y</th>\n",
       "      <th>suburb</th>\n",
       "      <th>ad_name</th>\n",
       "      <th>number_of_bedrooms</th>\n",
       "      <th>number_of_bathrooms</th>\n",
       "      <th>star_rating</th>\n",
       "      <th>is_superhost</th>\n",
       "      <th>number_of_reviews</th>\n",
       "    </tr>\n",
       "  </thead>\n",
       "  <tbody>\n",
       "    <tr>\n",
       "      <th>0</th>\n",
       "      <td>0</td>\n",
       "      <td>2148</td>\n",
       "      <td>40201349</td>\n",
       "      <td>blank</td>\n",
       "      <td>2020-11-15</td>\n",
       "      <td>250.0</td>\n",
       "      <td>0</td>\n",
       "      <td>349</td>\n",
       "      <td>Ingleses</td>\n",
       "      <td>Excelente apartamento de dois dormitórios.</td>\n",
       "      <td>2.0</td>\n",
       "      <td>2.0</td>\n",
       "      <td>NaN</td>\n",
       "      <td>False</td>\n",
       "      <td>0.0</td>\n",
       "    </tr>\n",
       "    <tr>\n",
       "      <th>1</th>\n",
       "      <td>1</td>\n",
       "      <td>2159</td>\n",
       "      <td>40201349</td>\n",
       "      <td>blank</td>\n",
       "      <td>2020-11-26</td>\n",
       "      <td>250.0</td>\n",
       "      <td>0</td>\n",
       "      <td>349</td>\n",
       "      <td>Ingleses</td>\n",
       "      <td>Excelente apartamento de dois dormitórios.</td>\n",
       "      <td>2.0</td>\n",
       "      <td>2.0</td>\n",
       "      <td>NaN</td>\n",
       "      <td>False</td>\n",
       "      <td>0.0</td>\n",
       "    </tr>\n",
       "    <tr>\n",
       "      <th>2</th>\n",
       "      <td>2</td>\n",
       "      <td>2160</td>\n",
       "      <td>40201349</td>\n",
       "      <td>blank</td>\n",
       "      <td>2020-11-27</td>\n",
       "      <td>250.0</td>\n",
       "      <td>0</td>\n",
       "      <td>349</td>\n",
       "      <td>Ingleses</td>\n",
       "      <td>Excelente apartamento de dois dormitórios.</td>\n",
       "      <td>2.0</td>\n",
       "      <td>2.0</td>\n",
       "      <td>NaN</td>\n",
       "      <td>False</td>\n",
       "      <td>0.0</td>\n",
       "    </tr>\n",
       "  </tbody>\n",
       "</table>\n",
       "</div>"
      ],
      "text/plain": [
       "   Unnamed: 0_x  Unnamed: 0.1  airbnb_listing_id booked_on        date  \\\n",
       "0             0          2148           40201349     blank  2020-11-15   \n",
       "1             1          2159           40201349     blank  2020-11-26   \n",
       "2             2          2160           40201349     blank  2020-11-27   \n",
       "\n",
       "   price_string  occupied  Unnamed: 0_y    suburb  \\\n",
       "0         250.0         0           349  Ingleses   \n",
       "1         250.0         0           349  Ingleses   \n",
       "2         250.0         0           349  Ingleses   \n",
       "\n",
       "                                      ad_name  number_of_bedrooms  \\\n",
       "0  Excelente apartamento de dois dormitórios.                 2.0   \n",
       "1  Excelente apartamento de dois dormitórios.                 2.0   \n",
       "2  Excelente apartamento de dois dormitórios.                 2.0   \n",
       "\n",
       "   number_of_bathrooms  star_rating  is_superhost  number_of_reviews  \n",
       "0                  2.0          NaN         False                0.0  \n",
       "1                  2.0          NaN         False                0.0  \n",
       "2                  2.0          NaN         False                0.0  "
      ]
     },
     "execution_count": 8,
     "metadata": {},
     "output_type": "execute_result"
    }
   ],
   "source": [
    "df = pd.merge(df1, df2, how = 'inner', on = 'airbnb_listing_id')\n",
    "df.head(3) # Exibindo as três primeiras linhas do novo DataFrame "
   ]
  },
  {
   "cell_type": "markdown",
   "metadata": {},
   "source": [
    "#### Ocultando Colunas "
   ]
  },
  {
   "cell_type": "code",
   "execution_count": 9,
   "metadata": {},
   "outputs": [],
   "source": [
    "df = df.drop(df.columns[[0, 1, 2, 7, 9]], axis=1)"
   ]
  },
  {
   "cell_type": "code",
   "execution_count": 10,
   "metadata": {
    "scrolled": true
   },
   "outputs": [
    {
     "data": {
      "text/html": [
       "<div>\n",
       "<style scoped>\n",
       "    .dataframe tbody tr th:only-of-type {\n",
       "        vertical-align: middle;\n",
       "    }\n",
       "\n",
       "    .dataframe tbody tr th {\n",
       "        vertical-align: top;\n",
       "    }\n",
       "\n",
       "    .dataframe thead th {\n",
       "        text-align: right;\n",
       "    }\n",
       "</style>\n",
       "<table border=\"1\" class=\"dataframe\">\n",
       "  <thead>\n",
       "    <tr style=\"text-align: right;\">\n",
       "      <th></th>\n",
       "      <th>booked_on</th>\n",
       "      <th>date</th>\n",
       "      <th>price_string</th>\n",
       "      <th>occupied</th>\n",
       "      <th>suburb</th>\n",
       "      <th>number_of_bedrooms</th>\n",
       "      <th>number_of_bathrooms</th>\n",
       "      <th>star_rating</th>\n",
       "      <th>is_superhost</th>\n",
       "      <th>number_of_reviews</th>\n",
       "    </tr>\n",
       "  </thead>\n",
       "  <tbody>\n",
       "    <tr>\n",
       "      <th>0</th>\n",
       "      <td>blank</td>\n",
       "      <td>2020-11-15</td>\n",
       "      <td>250.0</td>\n",
       "      <td>0</td>\n",
       "      <td>Ingleses</td>\n",
       "      <td>2.0</td>\n",
       "      <td>2.0</td>\n",
       "      <td>NaN</td>\n",
       "      <td>False</td>\n",
       "      <td>0.0</td>\n",
       "    </tr>\n",
       "    <tr>\n",
       "      <th>1</th>\n",
       "      <td>blank</td>\n",
       "      <td>2020-11-26</td>\n",
       "      <td>250.0</td>\n",
       "      <td>0</td>\n",
       "      <td>Ingleses</td>\n",
       "      <td>2.0</td>\n",
       "      <td>2.0</td>\n",
       "      <td>NaN</td>\n",
       "      <td>False</td>\n",
       "      <td>0.0</td>\n",
       "    </tr>\n",
       "    <tr>\n",
       "      <th>2</th>\n",
       "      <td>blank</td>\n",
       "      <td>2020-11-27</td>\n",
       "      <td>250.0</td>\n",
       "      <td>0</td>\n",
       "      <td>Ingleses</td>\n",
       "      <td>2.0</td>\n",
       "      <td>2.0</td>\n",
       "      <td>NaN</td>\n",
       "      <td>False</td>\n",
       "      <td>0.0</td>\n",
       "    </tr>\n",
       "  </tbody>\n",
       "</table>\n",
       "</div>"
      ],
      "text/plain": [
       "  booked_on        date  price_string  occupied    suburb  number_of_bedrooms  \\\n",
       "0     blank  2020-11-15         250.0         0  Ingleses                 2.0   \n",
       "1     blank  2020-11-26         250.0         0  Ingleses                 2.0   \n",
       "2     blank  2020-11-27         250.0         0  Ingleses                 2.0   \n",
       "\n",
       "   number_of_bathrooms  star_rating  is_superhost  number_of_reviews  \n",
       "0                  2.0          NaN         False                0.0  \n",
       "1                  2.0          NaN         False                0.0  \n",
       "2                  2.0          NaN         False                0.0  "
      ]
     },
     "execution_count": 10,
     "metadata": {},
     "output_type": "execute_result"
    }
   ],
   "source": [
    "df.head(3)"
   ]
  },
  {
   "cell_type": "markdown",
   "metadata": {},
   "source": [
    "#### Transformando Dados da Coluna \"booked_on\" de Texto para DateTime"
   ]
  },
  {
   "cell_type": "markdown",
   "metadata": {},
   "source": [
    "Na coluna \"booked_on\", antes de converter os dados para o formato DateTime, é preciso substituir as linhas com o caracter \"blank\" para espaços vazios. Isso é necessário para que não haja erros na conversão."
   ]
  },
  {
   "cell_type": "code",
   "execution_count": 11,
   "metadata": {},
   "outputs": [],
   "source": [
    "df['booked_on'] = df['booked_on'].str.replace('blank','')"
   ]
  },
  {
   "cell_type": "markdown",
   "metadata": {},
   "source": [
    "Convertendo os dados das Colunas de Data object para DateTime"
   ]
  },
  {
   "cell_type": "code",
   "execution_count": 12,
   "metadata": {},
   "outputs": [],
   "source": [
    "df['date'] = pd.to_datetime(df['date'])\n",
    "df['booked_on'] = pd.to_datetime(df['booked_on'])"
   ]
  },
  {
   "cell_type": "markdown",
   "metadata": {},
   "source": [
    "Verificando como ficou o DataFrame depois dos ajustes"
   ]
  },
  {
   "cell_type": "code",
   "execution_count": 13,
   "metadata": {},
   "outputs": [
    {
     "name": "stdout",
     "output_type": "stream",
     "text": [
      "<class 'pandas.core.frame.DataFrame'>\n",
      "Int64Index: 354520 entries, 0 to 354519\n",
      "Data columns (total 10 columns):\n",
      " #   Column               Non-Null Count   Dtype         \n",
      "---  ------               --------------   -----         \n",
      " 0   booked_on            164951 non-null  datetime64[ns]\n",
      " 1   date                 354520 non-null  datetime64[ns]\n",
      " 2   price_string         354520 non-null  float64       \n",
      " 3   occupied             354520 non-null  int64         \n",
      " 4   suburb               354520 non-null  object        \n",
      " 5   number_of_bedrooms   338908 non-null  float64       \n",
      " 6   number_of_bathrooms  354446 non-null  float64       \n",
      " 7   star_rating          217529 non-null  float64       \n",
      " 8   is_superhost         354520 non-null  bool          \n",
      " 9   number_of_reviews    354093 non-null  float64       \n",
      "dtypes: bool(1), datetime64[ns](2), float64(5), int64(1), object(1)\n",
      "memory usage: 27.4+ MB\n"
     ]
    }
   ],
   "source": [
    "df.info()"
   ]
  },
  {
   "cell_type": "markdown",
   "metadata": {},
   "source": [
    "* As colunas desnecessárias para a análise foram ocultadas\n",
    "* O formato das colunas de datas agora está como DateTime\n",
    "* O DataFrame geral ppossui agora dez colunas"
   ]
  },
  {
   "cell_type": "code",
   "execution_count": 14,
   "metadata": {
    "scrolled": true
   },
   "outputs": [
    {
     "data": {
      "text/html": [
       "<div>\n",
       "<style scoped>\n",
       "    .dataframe tbody tr th:only-of-type {\n",
       "        vertical-align: middle;\n",
       "    }\n",
       "\n",
       "    .dataframe tbody tr th {\n",
       "        vertical-align: top;\n",
       "    }\n",
       "\n",
       "    .dataframe thead th {\n",
       "        text-align: right;\n",
       "    }\n",
       "</style>\n",
       "<table border=\"1\" class=\"dataframe\">\n",
       "  <thead>\n",
       "    <tr style=\"text-align: right;\">\n",
       "      <th></th>\n",
       "      <th>booked_on</th>\n",
       "      <th>date</th>\n",
       "      <th>price_string</th>\n",
       "      <th>occupied</th>\n",
       "      <th>suburb</th>\n",
       "      <th>number_of_bedrooms</th>\n",
       "      <th>number_of_bathrooms</th>\n",
       "      <th>star_rating</th>\n",
       "      <th>is_superhost</th>\n",
       "      <th>number_of_reviews</th>\n",
       "    </tr>\n",
       "  </thead>\n",
       "  <tbody>\n",
       "    <tr>\n",
       "      <th>0</th>\n",
       "      <td>NaT</td>\n",
       "      <td>2020-11-15</td>\n",
       "      <td>250.0</td>\n",
       "      <td>0</td>\n",
       "      <td>Ingleses</td>\n",
       "      <td>2.0</td>\n",
       "      <td>2.0</td>\n",
       "      <td>NaN</td>\n",
       "      <td>False</td>\n",
       "      <td>0.0</td>\n",
       "    </tr>\n",
       "    <tr>\n",
       "      <th>1</th>\n",
       "      <td>NaT</td>\n",
       "      <td>2020-11-26</td>\n",
       "      <td>250.0</td>\n",
       "      <td>0</td>\n",
       "      <td>Ingleses</td>\n",
       "      <td>2.0</td>\n",
       "      <td>2.0</td>\n",
       "      <td>NaN</td>\n",
       "      <td>False</td>\n",
       "      <td>0.0</td>\n",
       "    </tr>\n",
       "    <tr>\n",
       "      <th>2</th>\n",
       "      <td>NaT</td>\n",
       "      <td>2020-11-27</td>\n",
       "      <td>250.0</td>\n",
       "      <td>0</td>\n",
       "      <td>Ingleses</td>\n",
       "      <td>2.0</td>\n",
       "      <td>2.0</td>\n",
       "      <td>NaN</td>\n",
       "      <td>False</td>\n",
       "      <td>0.0</td>\n",
       "    </tr>\n",
       "  </tbody>\n",
       "</table>\n",
       "</div>"
      ],
      "text/plain": [
       "  booked_on       date  price_string  occupied    suburb  number_of_bedrooms  \\\n",
       "0       NaT 2020-11-15         250.0         0  Ingleses                 2.0   \n",
       "1       NaT 2020-11-26         250.0         0  Ingleses                 2.0   \n",
       "2       NaT 2020-11-27         250.0         0  Ingleses                 2.0   \n",
       "\n",
       "   number_of_bathrooms  star_rating  is_superhost  number_of_reviews  \n",
       "0                  2.0          NaN         False                0.0  \n",
       "1                  2.0          NaN         False                0.0  \n",
       "2                  2.0          NaN         False                0.0  "
      ]
     },
     "execution_count": 14,
     "metadata": {},
     "output_type": "execute_result"
    }
   ],
   "source": [
    "df.head(3) # Exibindo as três primeiras linhas"
   ]
  },
  {
   "cell_type": "markdown",
   "metadata": {},
   "source": [
    "### 1. Ordene os bairros em ordem crescente de número de listings(anúncios)."
   ]
  },
  {
   "cell_type": "markdown",
   "metadata": {},
   "source": [
    "A resposta da primeira questão surge com a soma do número de linhas de cada bairro, cada linha do DataFrame também representa um listing(anúncio)."
   ]
  },
  {
   "cell_type": "code",
   "execution_count": 15,
   "metadata": {
    "scrolled": true
   },
   "outputs": [
    {
     "data": {
      "text/plain": [
       "Ingleses              176864\n",
       "Canasvieiras           92186\n",
       "Jurerê                 42857\n",
       "Lagoa da Conceição     23431\n",
       "Centro                 19182\n",
       "Name: suburb, dtype: int64"
      ]
     },
     "execution_count": 15,
     "metadata": {},
     "output_type": "execute_result"
    }
   ],
   "source": [
    "df.suburb.value_counts() # Somando o número de listings de cada bairro"
   ]
  },
  {
   "cell_type": "markdown",
   "metadata": {},
   "source": [
    "Gráfico representando o número de anúncios de cada bairro."
   ]
  },
  {
   "cell_type": "code",
   "execution_count": 39,
   "metadata": {
    "scrolled": true
   },
   "outputs": [
    {
     "data": {
      "image/png": "[encoded data removed]",
      "text/plain": [
       "<Figure size 720x432 with 1 Axes>"
      ]
     },
     "metadata": {
      "needs_background": "light"
     },
     "output_type": "display_data"
    }
   ],
   "source": [
    "plt.figure(figsize=(10,6))\n",
    "plt.title('Quantidade de Anúncios Por Bairro', fontsize=16)\n",
    "sns.countplot( x = df.suburb)\n",
    "plt.xlabel('Bairro', fontsize=12)\n",
    "plt.ylabel('Número de Anúncios', fontsize=12)\n",
    "plt.show()"
   ]
  },
  {
   "cell_type": "markdown",
   "metadata": {},
   "source": [
    "Ingleses é de longe o bairro com maior quantidade anúncios(176864), seguido por Canasvieiras(92186), já o centro de Florianópolis apresenta a menor quantidade(19182)."
   ]
  },
  {
   "cell_type": "markdown",
   "metadata": {},
   "source": [
    "### 2. Ordene os bairros em ordem crescente de faturamento(soma do preço das datas alugadas) médio dos listings."
   ]
  },
  {
   "cell_type": "markdown",
   "metadata": {},
   "source": [
    "Usando a função \"groupby\" para calcular a média dos preços dos anúncios de cada bairro."
   ]
  },
  {
   "cell_type": "code",
   "execution_count": 17,
   "metadata": {
    "scrolled": true
   },
   "outputs": [
    {
     "data": {
      "text/plain": [
       "suburb\n",
       "Jurerê                406.074854\n",
       "Ingleses              350.371020\n",
       "Canasvieiras          292.571139\n",
       "Lagoa da Conceição    250.514148\n",
       "Centro                219.088990\n",
       "Name: price_string, dtype: float64"
      ]
     },
     "execution_count": 17,
     "metadata": {},
     "output_type": "execute_result"
    }
   ],
   "source": [
    "df.groupby('suburb')['price_string'].mean().nlargest()"
   ]
  },
  {
   "cell_type": "markdown",
   "metadata": {},
   "source": [
    "Mesmo com Ingleses sendo o bairro com mais anúncios, Jurerê é o bairro que possui o maior faturamento médio. O centro também fica em úlrtima posição em relação ao faturamento médio."
   ]
  },
  {
   "cell_type": "markdown",
   "metadata": {},
   "source": [
    "### 3. Existem correlações entre as características de um anúncio e seu faturamento? Quais? Explique."
   ]
  },
  {
   "cell_type": "markdown",
   "metadata": {},
   "source": [
    "A utilização do método da correlação é uma forma de dectar se existe interdependência entre duas ou mais variáveis. Umas das alternativas mais comuns é a correlação de Pearson, que mede a associação linear entre variáveis contínuas. Através dos índices do método de Pearson é possivel saber o quanto a relação entre as variáveis pode ser descrita por uma reta.\n",
    "\n",
    "Para saber se há correlação entre as características de um anúncio e seu faturamento, seram utilisadas apenas as colunas referentes ao preço ofertado(price_string), quantidade de Quartos(number_of_bedrooms), número de banheiros(number_of_bathrooms) e quantidade de comentários(number_of_reviews).\n",
    "\n",
    "Anteriormente foi verificado que existem dados nulos em quatro colunas do DataFrame geral que esta sendo trabalhado(df1+df2), até o momento esses valores não influenciaram na análise, motivo pelo qual não foram alterados. Para garantir a qualidade da análise, a correlação das váriaveis será feita de duas formas: a primeira incluindo os valores nulos e a segunda com as linhas dos dados nulos removidos. Dessa forma é possivel saber o grau d einfluência dos valores nulos na correlação."
   ]
  },
  {
   "cell_type": "markdown",
   "metadata": {},
   "source": [
    "#### Criando DataFrame para Correlação"
   ]
  },
  {
   "cell_type": "code",
   "execution_count": 18,
   "metadata": {
    "scrolled": true
   },
   "outputs": [
    {
     "data": {
      "text/html": [
       "<div>\n",
       "<style scoped>\n",
       "    .dataframe tbody tr th:only-of-type {\n",
       "        vertical-align: middle;\n",
       "    }\n",
       "\n",
       "    .dataframe tbody tr th {\n",
       "        vertical-align: top;\n",
       "    }\n",
       "\n",
       "    .dataframe thead th {\n",
       "        text-align: right;\n",
       "    }\n",
       "</style>\n",
       "<table border=\"1\" class=\"dataframe\">\n",
       "  <thead>\n",
       "    <tr style=\"text-align: right;\">\n",
       "      <th></th>\n",
       "      <th>price_string</th>\n",
       "      <th>number_of_bedrooms</th>\n",
       "      <th>number_of_bathrooms</th>\n",
       "      <th>number_of_reviews</th>\n",
       "    </tr>\n",
       "  </thead>\n",
       "  <tbody>\n",
       "    <tr>\n",
       "      <th>0</th>\n",
       "      <td>250.0</td>\n",
       "      <td>2.0</td>\n",
       "      <td>2.0</td>\n",
       "      <td>0.0</td>\n",
       "    </tr>\n",
       "    <tr>\n",
       "      <th>1</th>\n",
       "      <td>250.0</td>\n",
       "      <td>2.0</td>\n",
       "      <td>2.0</td>\n",
       "      <td>0.0</td>\n",
       "    </tr>\n",
       "    <tr>\n",
       "      <th>2</th>\n",
       "      <td>250.0</td>\n",
       "      <td>2.0</td>\n",
       "      <td>2.0</td>\n",
       "      <td>0.0</td>\n",
       "    </tr>\n",
       "  </tbody>\n",
       "</table>\n",
       "</div>"
      ],
      "text/plain": [
       "   price_string  number_of_bedrooms  number_of_bathrooms  number_of_reviews\n",
       "0         250.0                 2.0                  2.0                0.0\n",
       "1         250.0                 2.0                  2.0                0.0\n",
       "2         250.0                 2.0                  2.0                0.0"
      ]
     },
     "execution_count": 18,
     "metadata": {},
     "output_type": "execute_result"
    }
   ],
   "source": [
    "c1 = df[['price_string','number_of_bedrooms','number_of_bathrooms','number_of_reviews']]\n",
    "c1.head(3) # Exibindo primeiras três linhas"
   ]
  },
  {
   "cell_type": "markdown",
   "metadata": {},
   "source": [
    "DataFrame c1 | Valores Nulos, Linhas e Colunas"
   ]
  },
  {
   "cell_type": "code",
   "execution_count": 19,
   "metadata": {
    "scrolled": false
   },
   "outputs": [
    {
     "data": {
      "text/plain": [
       "price_string               0\n",
       "number_of_bedrooms     15612\n",
       "number_of_bathrooms       74\n",
       "number_of_reviews        427\n",
       "dtype: int64"
      ]
     },
     "execution_count": 19,
     "metadata": {},
     "output_type": "execute_result"
    }
   ],
   "source": [
    "c1.isnull().sum() # Valores Nulos"
   ]
  },
  {
   "cell_type": "code",
   "execution_count": 20,
   "metadata": {
    "scrolled": true
   },
   "outputs": [
    {
     "data": {
      "text/plain": [
       "(354520, 4)"
      ]
     },
     "execution_count": 20,
     "metadata": {},
     "output_type": "execute_result"
    }
   ],
   "source": [
    "c1.shape # Linhas e Colunas"
   ]
  },
  {
   "cell_type": "markdown",
   "metadata": {},
   "source": [
    "DataFrame c2 | Valores Nulos, Linhas e Colunas"
   ]
  },
  {
   "cell_type": "code",
   "execution_count": 21,
   "metadata": {},
   "outputs": [],
   "source": [
    "c2 = c1.dropna() # DataFrame c2"
   ]
  },
  {
   "cell_type": "code",
   "execution_count": 22,
   "metadata": {},
   "outputs": [
    {
     "data": {
      "text/plain": [
       "price_string           0\n",
       "number_of_bedrooms     0\n",
       "number_of_bathrooms    0\n",
       "number_of_reviews      0\n",
       "dtype: int64"
      ]
     },
     "execution_count": 22,
     "metadata": {},
     "output_type": "execute_result"
    }
   ],
   "source": [
    "c2.isnull().sum() # Valores Nulos"
   ]
  },
  {
   "cell_type": "code",
   "execution_count": 23,
   "metadata": {},
   "outputs": [
    {
     "data": {
      "text/plain": [
       "(338407, 4)"
      ]
     },
     "execution_count": 23,
     "metadata": {},
     "output_type": "execute_result"
    }
   ],
   "source": [
    "c2.shape # Linhas e Colunas"
   ]
  },
  {
   "cell_type": "markdown",
   "metadata": {},
   "source": [
    "Verificando a correlação entre as variáveis dos dois DataFrames"
   ]
  },
  {
   "cell_type": "code",
   "execution_count": 24,
   "metadata": {
    "scrolled": true
   },
   "outputs": [
    {
     "data": {
      "text/html": [
       "<div>\n",
       "<style scoped>\n",
       "    .dataframe tbody tr th:only-of-type {\n",
       "        vertical-align: middle;\n",
       "    }\n",
       "\n",
       "    .dataframe tbody tr th {\n",
       "        vertical-align: top;\n",
       "    }\n",
       "\n",
       "    .dataframe thead th {\n",
       "        text-align: right;\n",
       "    }\n",
       "</style>\n",
       "<table border=\"1\" class=\"dataframe\">\n",
       "  <thead>\n",
       "    <tr style=\"text-align: right;\">\n",
       "      <th></th>\n",
       "      <th>price_string</th>\n",
       "      <th>number_of_bedrooms</th>\n",
       "      <th>number_of_bathrooms</th>\n",
       "      <th>number_of_reviews</th>\n",
       "    </tr>\n",
       "  </thead>\n",
       "  <tbody>\n",
       "    <tr>\n",
       "      <th>price_string</th>\n",
       "      <td>1.000000</td>\n",
       "      <td>0.428481</td>\n",
       "      <td>0.429739</td>\n",
       "      <td>-0.141430</td>\n",
       "    </tr>\n",
       "    <tr>\n",
       "      <th>number_of_bedrooms</th>\n",
       "      <td>0.428481</td>\n",
       "      <td>1.000000</td>\n",
       "      <td>0.744669</td>\n",
       "      <td>-0.098852</td>\n",
       "    </tr>\n",
       "    <tr>\n",
       "      <th>number_of_bathrooms</th>\n",
       "      <td>0.429739</td>\n",
       "      <td>0.744669</td>\n",
       "      <td>1.000000</td>\n",
       "      <td>-0.099048</td>\n",
       "    </tr>\n",
       "    <tr>\n",
       "      <th>number_of_reviews</th>\n",
       "      <td>-0.141430</td>\n",
       "      <td>-0.098852</td>\n",
       "      <td>-0.099048</td>\n",
       "      <td>1.000000</td>\n",
       "    </tr>\n",
       "  </tbody>\n",
       "</table>\n",
       "</div>"
      ],
      "text/plain": [
       "                     price_string  number_of_bedrooms  number_of_bathrooms  \\\n",
       "price_string             1.000000            0.428481             0.429739   \n",
       "number_of_bedrooms       0.428481            1.000000             0.744669   \n",
       "number_of_bathrooms      0.429739            0.744669             1.000000   \n",
       "number_of_reviews       -0.141430           -0.098852            -0.099048   \n",
       "\n",
       "                     number_of_reviews  \n",
       "price_string                 -0.141430  \n",
       "number_of_bedrooms           -0.098852  \n",
       "number_of_bathrooms          -0.099048  \n",
       "number_of_reviews             1.000000  "
      ]
     },
     "execution_count": 24,
     "metadata": {},
     "output_type": "execute_result"
    }
   ],
   "source": [
    "c1.corr()"
   ]
  },
  {
   "cell_type": "code",
   "execution_count": 25,
   "metadata": {
    "scrolled": false
   },
   "outputs": [
    {
     "data": {
      "text/html": [
       "<div>\n",
       "<style scoped>\n",
       "    .dataframe tbody tr th:only-of-type {\n",
       "        vertical-align: middle;\n",
       "    }\n",
       "\n",
       "    .dataframe tbody tr th {\n",
       "        vertical-align: top;\n",
       "    }\n",
       "\n",
       "    .dataframe thead th {\n",
       "        text-align: right;\n",
       "    }\n",
       "</style>\n",
       "<table border=\"1\" class=\"dataframe\">\n",
       "  <thead>\n",
       "    <tr style=\"text-align: right;\">\n",
       "      <th></th>\n",
       "      <th>price_string</th>\n",
       "      <th>number_of_bedrooms</th>\n",
       "      <th>number_of_bathrooms</th>\n",
       "      <th>number_of_reviews</th>\n",
       "    </tr>\n",
       "  </thead>\n",
       "  <tbody>\n",
       "    <tr>\n",
       "      <th>price_string</th>\n",
       "      <td>1.000000</td>\n",
       "      <td>0.426899</td>\n",
       "      <td>0.422960</td>\n",
       "      <td>-0.129516</td>\n",
       "    </tr>\n",
       "    <tr>\n",
       "      <th>number_of_bedrooms</th>\n",
       "      <td>0.426899</td>\n",
       "      <td>1.000000</td>\n",
       "      <td>0.744324</td>\n",
       "      <td>-0.098599</td>\n",
       "    </tr>\n",
       "    <tr>\n",
       "      <th>number_of_bathrooms</th>\n",
       "      <td>0.422960</td>\n",
       "      <td>0.744324</td>\n",
       "      <td>1.000000</td>\n",
       "      <td>-0.085282</td>\n",
       "    </tr>\n",
       "    <tr>\n",
       "      <th>number_of_reviews</th>\n",
       "      <td>-0.129516</td>\n",
       "      <td>-0.098599</td>\n",
       "      <td>-0.085282</td>\n",
       "      <td>1.000000</td>\n",
       "    </tr>\n",
       "  </tbody>\n",
       "</table>\n",
       "</div>"
      ],
      "text/plain": [
       "                     price_string  number_of_bedrooms  number_of_bathrooms  \\\n",
       "price_string             1.000000            0.426899             0.422960   \n",
       "number_of_bedrooms       0.426899            1.000000             0.744324   \n",
       "number_of_bathrooms      0.422960            0.744324             1.000000   \n",
       "number_of_reviews       -0.129516           -0.098599            -0.085282   \n",
       "\n",
       "                     number_of_reviews  \n",
       "price_string                 -0.129516  \n",
       "number_of_bedrooms           -0.098599  \n",
       "number_of_bathrooms          -0.085282  \n",
       "number_of_reviews             1.000000  "
      ]
     },
     "execution_count": 25,
     "metadata": {},
     "output_type": "execute_result"
    }
   ],
   "source": [
    "c2.corr()"
   ]
  },
  {
   "cell_type": "markdown",
   "metadata": {},
   "source": [
    "A remoção dos dados nulos(16113 linhas) não fez diferença para o resultado sobre a correlação das variáveis.  "
   ]
  },
  {
   "cell_type": "markdown",
   "metadata": {},
   "source": [
    "Os resultados mostras uma fraca correlação dos faturamentos dos anúncios com o quantidade de quartos e de banheiros, isso se deve pelo valor do índice de ambas as variáveis serem menor que 0,5, pois quanto mais perto de 1,0, maior é correlação. O número de avaliações não tem correlação com o faturaramento dos anúncios, o valor de -0,12 sustenta essa afirmação."
   ]
  },
  {
   "cell_type": "markdown",
   "metadata": {},
   "source": [
    "### 4. Qual a antecedência média das reservas? Esse número é maior ou menor para finais de semana?"
   ]
  },
  {
   "cell_type": "markdown",
   "metadata": {},
   "source": [
    "A partir do valor médio do resultado da subtração das datas alugadas(\"date\") com as datas reservadas(\"booked_on\"), é possivel conhecer a antecedência média dessas reservas. Os valores das colunas \"date\" e \"booked_on\" foram convertidos anteriomente para o formato DateTime, o que permite já realizar as operações com essas variáveis."
   ]
  },
  {
   "cell_type": "markdown",
   "metadata": {},
   "source": [
    "Gerando a variável Antecedência."
   ]
  },
  {
   "cell_type": "code",
   "execution_count": 26,
   "metadata": {
    "scrolled": true
   },
   "outputs": [],
   "source": [
    "da = df.date # DataFrame Período Alugado\n",
    "dr = df.booked_on # DataFrame Reservas\n",
    "an = da - dr # Antecedência\n",
    "df['antec_reserva'] = an # Antecedência adicionado como coluna ao DataFrame geral"
   ]
  },
  {
   "cell_type": "code",
   "execution_count": 27,
   "metadata": {},
   "outputs": [
    {
     "data": {
      "text/html": [
       "<div>\n",
       "<style scoped>\n",
       "    .dataframe tbody tr th:only-of-type {\n",
       "        vertical-align: middle;\n",
       "    }\n",
       "\n",
       "    .dataframe tbody tr th {\n",
       "        vertical-align: top;\n",
       "    }\n",
       "\n",
       "    .dataframe thead th {\n",
       "        text-align: right;\n",
       "    }\n",
       "</style>\n",
       "<table border=\"1\" class=\"dataframe\">\n",
       "  <thead>\n",
       "    <tr style=\"text-align: right;\">\n",
       "      <th></th>\n",
       "      <th>booked_on</th>\n",
       "      <th>date</th>\n",
       "      <th>price_string</th>\n",
       "      <th>occupied</th>\n",
       "      <th>suburb</th>\n",
       "      <th>number_of_bedrooms</th>\n",
       "      <th>number_of_bathrooms</th>\n",
       "      <th>star_rating</th>\n",
       "      <th>is_superhost</th>\n",
       "      <th>number_of_reviews</th>\n",
       "      <th>antec_reserva</th>\n",
       "    </tr>\n",
       "  </thead>\n",
       "  <tbody>\n",
       "    <tr>\n",
       "      <th>0</th>\n",
       "      <td>NaT</td>\n",
       "      <td>2020-11-15</td>\n",
       "      <td>250.0</td>\n",
       "      <td>0</td>\n",
       "      <td>Ingleses</td>\n",
       "      <td>2.0</td>\n",
       "      <td>2.0</td>\n",
       "      <td>NaN</td>\n",
       "      <td>False</td>\n",
       "      <td>0.0</td>\n",
       "      <td>NaT</td>\n",
       "    </tr>\n",
       "    <tr>\n",
       "      <th>1</th>\n",
       "      <td>NaT</td>\n",
       "      <td>2020-11-26</td>\n",
       "      <td>250.0</td>\n",
       "      <td>0</td>\n",
       "      <td>Ingleses</td>\n",
       "      <td>2.0</td>\n",
       "      <td>2.0</td>\n",
       "      <td>NaN</td>\n",
       "      <td>False</td>\n",
       "      <td>0.0</td>\n",
       "      <td>NaT</td>\n",
       "    </tr>\n",
       "    <tr>\n",
       "      <th>2</th>\n",
       "      <td>NaT</td>\n",
       "      <td>2020-11-27</td>\n",
       "      <td>250.0</td>\n",
       "      <td>0</td>\n",
       "      <td>Ingleses</td>\n",
       "      <td>2.0</td>\n",
       "      <td>2.0</td>\n",
       "      <td>NaN</td>\n",
       "      <td>False</td>\n",
       "      <td>0.0</td>\n",
       "      <td>NaT</td>\n",
       "    </tr>\n",
       "  </tbody>\n",
       "</table>\n",
       "</div>"
      ],
      "text/plain": [
       "  booked_on       date  price_string  occupied    suburb  number_of_bedrooms  \\\n",
       "0       NaT 2020-11-15         250.0         0  Ingleses                 2.0   \n",
       "1       NaT 2020-11-26         250.0         0  Ingleses                 2.0   \n",
       "2       NaT 2020-11-27         250.0         0  Ingleses                 2.0   \n",
       "\n",
       "   number_of_bathrooms  star_rating  is_superhost  number_of_reviews  \\\n",
       "0                  2.0          NaN         False                0.0   \n",
       "1                  2.0          NaN         False                0.0   \n",
       "2                  2.0          NaN         False                0.0   \n",
       "\n",
       "  antec_reserva  \n",
       "0           NaT  \n",
       "1           NaT  \n",
       "2           NaT  "
      ]
     },
     "execution_count": 27,
     "metadata": {},
     "output_type": "execute_result"
    }
   ],
   "source": [
    "df.head(3) # Exibindo primeiras linhas"
   ]
  },
  {
   "cell_type": "markdown",
   "metadata": {},
   "source": [
    "A antecedência das reservas foi adicionada como coluna ao DataFrame geral. Para garantir a qualidade dos resultados, agora é importante conferir as caracteristicas dessa nova variável através da estatistica descritiva."
   ]
  },
  {
   "cell_type": "code",
   "execution_count": 28,
   "metadata": {},
   "outputs": [
    {
     "data": {
      "text/plain": [
       "count                        164951\n",
       "mean     32 days 08:26:27.787888524\n",
       "std      71 days 14:13:17.961118661\n",
       "min                 0 days 00:00:00\n",
       "25%                 0 days 00:00:00\n",
       "50%                 6 days 00:00:00\n",
       "75%                34 days 00:00:00\n",
       "max              7644 days 00:00:00\n",
       "Name: antec_reserva, dtype: object"
      ]
     },
     "execution_count": 28,
     "metadata": {},
     "output_type": "execute_result"
    }
   ],
   "source": [
    "df.antec_reserva.describe() # Estatística Descritiva da Variável "
   ]
  },
  {
   "cell_type": "markdown",
   "metadata": {},
   "source": [
    "A estatística descritiva mostra a presença de outliers  na variável. Essa idéia é confirmada por dois apontamentos importantes: o desvio padrão possui um valor muito alto em relação a média, o segundo é a quantidade máxima de dias de antecedência(7644) indicando reservas feitas a mais de 20 anos.\n",
    "\n",
    "Os outliers podem  trazer distorções para as análises, pois são informações distantes em relação a um conjunto de dados. Para garantir que os resultados não sejam afetados, esses outliers devem ser identificados e separados da análise.\n",
    "\n",
    "Como já é conhecido que existem dados de reservas feitas com muitos anos(outiliers), é preciso conhecer as linhas do DataFrame geral com as datas de reserva mais antigas."
   ]
  },
  {
   "cell_type": "markdown",
   "metadata": {},
   "source": [
    "#### Detectando as Linhas com os Outliers"
   ]
  },
  {
   "cell_type": "code",
   "execution_count": 29,
   "metadata": {
    "scrolled": false
   },
   "outputs": [
    {
     "data": {
      "text/html": [
       "<div>\n",
       "<style scoped>\n",
       "    .dataframe tbody tr th:only-of-type {\n",
       "        vertical-align: middle;\n",
       "    }\n",
       "\n",
       "    .dataframe tbody tr th {\n",
       "        vertical-align: top;\n",
       "    }\n",
       "\n",
       "    .dataframe thead th {\n",
       "        text-align: right;\n",
       "    }\n",
       "</style>\n",
       "<table border=\"1\" class=\"dataframe\">\n",
       "  <thead>\n",
       "    <tr style=\"text-align: right;\">\n",
       "      <th></th>\n",
       "      <th>booked_on</th>\n",
       "      <th>date</th>\n",
       "      <th>price_string</th>\n",
       "      <th>occupied</th>\n",
       "      <th>suburb</th>\n",
       "      <th>number_of_bedrooms</th>\n",
       "      <th>number_of_bathrooms</th>\n",
       "      <th>star_rating</th>\n",
       "      <th>is_superhost</th>\n",
       "      <th>number_of_reviews</th>\n",
       "      <th>antec_reserva</th>\n",
       "    </tr>\n",
       "  </thead>\n",
       "  <tbody>\n",
       "    <tr>\n",
       "      <th>250876</th>\n",
       "      <td>2000-01-01</td>\n",
       "      <td>2020-12-05</td>\n",
       "      <td>232.0</td>\n",
       "      <td>1</td>\n",
       "      <td>Ingleses</td>\n",
       "      <td>NaN</td>\n",
       "      <td>1.0</td>\n",
       "      <td>NaN</td>\n",
       "      <td>False</td>\n",
       "      <td>2.0</td>\n",
       "      <td>7644 days</td>\n",
       "    </tr>\n",
       "    <tr>\n",
       "      <th>250892</th>\n",
       "      <td>2000-01-01</td>\n",
       "      <td>2020-12-05</td>\n",
       "      <td>232.0</td>\n",
       "      <td>1</td>\n",
       "      <td>Ingleses</td>\n",
       "      <td>NaN</td>\n",
       "      <td>1.0</td>\n",
       "      <td>NaN</td>\n",
       "      <td>False</td>\n",
       "      <td>2.0</td>\n",
       "      <td>7644 days</td>\n",
       "    </tr>\n",
       "    <tr>\n",
       "      <th>76559</th>\n",
       "      <td>2000-01-01</td>\n",
       "      <td>2020-11-13</td>\n",
       "      <td>320.0</td>\n",
       "      <td>1</td>\n",
       "      <td>Canasvieiras</td>\n",
       "      <td>1.0</td>\n",
       "      <td>1.0</td>\n",
       "      <td>NaN</td>\n",
       "      <td>False</td>\n",
       "      <td>1.0</td>\n",
       "      <td>7622 days</td>\n",
       "    </tr>\n",
       "    <tr>\n",
       "      <th>120662</th>\n",
       "      <td>2020-03-01</td>\n",
       "      <td>2021-03-06</td>\n",
       "      <td>475.0</td>\n",
       "      <td>1</td>\n",
       "      <td>Canasvieiras</td>\n",
       "      <td>2.0</td>\n",
       "      <td>2.0</td>\n",
       "      <td>NaN</td>\n",
       "      <td>False</td>\n",
       "      <td>1.0</td>\n",
       "      <td>370 days</td>\n",
       "    </tr>\n",
       "    <tr>\n",
       "      <th>120661</th>\n",
       "      <td>2020-03-01</td>\n",
       "      <td>2021-03-05</td>\n",
       "      <td>475.0</td>\n",
       "      <td>1</td>\n",
       "      <td>Canasvieiras</td>\n",
       "      <td>2.0</td>\n",
       "      <td>2.0</td>\n",
       "      <td>NaN</td>\n",
       "      <td>False</td>\n",
       "      <td>1.0</td>\n",
       "      <td>369 days</td>\n",
       "    </tr>\n",
       "    <tr>\n",
       "      <th>50439</th>\n",
       "      <td>2020-03-02</td>\n",
       "      <td>2021-03-05</td>\n",
       "      <td>270.0</td>\n",
       "      <td>1</td>\n",
       "      <td>Canasvieiras</td>\n",
       "      <td>1.0</td>\n",
       "      <td>1.0</td>\n",
       "      <td>4.5</td>\n",
       "      <td>False</td>\n",
       "      <td>4.0</td>\n",
       "      <td>368 days</td>\n",
       "    </tr>\n",
       "    <tr>\n",
       "      <th>120660</th>\n",
       "      <td>2020-03-01</td>\n",
       "      <td>2021-03-04</td>\n",
       "      <td>475.0</td>\n",
       "      <td>1</td>\n",
       "      <td>Canasvieiras</td>\n",
       "      <td>2.0</td>\n",
       "      <td>2.0</td>\n",
       "      <td>NaN</td>\n",
       "      <td>False</td>\n",
       "      <td>1.0</td>\n",
       "      <td>368 days</td>\n",
       "    </tr>\n",
       "    <tr>\n",
       "      <th>120659</th>\n",
       "      <td>2020-03-01</td>\n",
       "      <td>2021-03-03</td>\n",
       "      <td>475.0</td>\n",
       "      <td>1</td>\n",
       "      <td>Canasvieiras</td>\n",
       "      <td>2.0</td>\n",
       "      <td>2.0</td>\n",
       "      <td>NaN</td>\n",
       "      <td>False</td>\n",
       "      <td>1.0</td>\n",
       "      <td>367 days</td>\n",
       "    </tr>\n",
       "    <tr>\n",
       "      <th>50437</th>\n",
       "      <td>2020-03-02</td>\n",
       "      <td>2021-03-03</td>\n",
       "      <td>270.0</td>\n",
       "      <td>1</td>\n",
       "      <td>Canasvieiras</td>\n",
       "      <td>1.0</td>\n",
       "      <td>1.0</td>\n",
       "      <td>4.5</td>\n",
       "      <td>False</td>\n",
       "      <td>4.0</td>\n",
       "      <td>366 days</td>\n",
       "    </tr>\n",
       "    <tr>\n",
       "      <th>120658</th>\n",
       "      <td>2020-03-01</td>\n",
       "      <td>2021-03-02</td>\n",
       "      <td>475.0</td>\n",
       "      <td>1</td>\n",
       "      <td>Canasvieiras</td>\n",
       "      <td>2.0</td>\n",
       "      <td>2.0</td>\n",
       "      <td>NaN</td>\n",
       "      <td>False</td>\n",
       "      <td>1.0</td>\n",
       "      <td>366 days</td>\n",
       "    </tr>\n",
       "  </tbody>\n",
       "</table>\n",
       "</div>"
      ],
      "text/plain": [
       "        booked_on       date  price_string  occupied        suburb  \\\n",
       "250876 2000-01-01 2020-12-05         232.0         1      Ingleses   \n",
       "250892 2000-01-01 2020-12-05         232.0         1      Ingleses   \n",
       "76559  2000-01-01 2020-11-13         320.0         1  Canasvieiras   \n",
       "120662 2020-03-01 2021-03-06         475.0         1  Canasvieiras   \n",
       "120661 2020-03-01 2021-03-05         475.0         1  Canasvieiras   \n",
       "50439  2020-03-02 2021-03-05         270.0         1  Canasvieiras   \n",
       "120660 2020-03-01 2021-03-04         475.0         1  Canasvieiras   \n",
       "120659 2020-03-01 2021-03-03         475.0         1  Canasvieiras   \n",
       "50437  2020-03-02 2021-03-03         270.0         1  Canasvieiras   \n",
       "120658 2020-03-01 2021-03-02         475.0         1  Canasvieiras   \n",
       "\n",
       "        number_of_bedrooms  number_of_bathrooms  star_rating  is_superhost  \\\n",
       "250876                 NaN                  1.0          NaN         False   \n",
       "250892                 NaN                  1.0          NaN         False   \n",
       "76559                  1.0                  1.0          NaN         False   \n",
       "120662                 2.0                  2.0          NaN         False   \n",
       "120661                 2.0                  2.0          NaN         False   \n",
       "50439                  1.0                  1.0          4.5         False   \n",
       "120660                 2.0                  2.0          NaN         False   \n",
       "120659                 2.0                  2.0          NaN         False   \n",
       "50437                  1.0                  1.0          4.5         False   \n",
       "120658                 2.0                  2.0          NaN         False   \n",
       "\n",
       "        number_of_reviews antec_reserva  \n",
       "250876                2.0     7644 days  \n",
       "250892                2.0     7644 days  \n",
       "76559                 1.0     7622 days  \n",
       "120662                1.0      370 days  \n",
       "120661                1.0      369 days  \n",
       "50439                 4.0      368 days  \n",
       "120660                1.0      368 days  \n",
       "120659                1.0      367 days  \n",
       "50437                 4.0      366 days  \n",
       "120658                1.0      366 days  "
      ]
     },
     "execution_count": 29,
     "metadata": {},
     "output_type": "execute_result"
    }
   ],
   "source": [
    "df.nlargest(10, 'antec_reserva') # Conhecendo as dez reservas mais antigas"
   ]
  },
  {
   "cell_type": "markdown",
   "metadata": {},
   "source": [
    "Os outliers representam apenas três linhas dos DataFrame geral, ambas informam reservas feitas com mais de 20 anos de antecedencia, o que significa que esses valores estão incorretos, pois ninguém realiza reservas com essa quantidade de anos. Como são apenas três linhas, é possível que elas não interfiram nos resultados de forma expressiva, mas nesse caso o mais adequado é que elas ainda sejam removidas das análises posteriores."
   ]
  },
  {
   "cell_type": "markdown",
   "metadata": {},
   "source": [
    "#### Removendo os Outliers"
   ]
  },
  {
   "cell_type": "code",
   "execution_count": 31,
   "metadata": {
    "scrolled": true
   },
   "outputs": [
    {
     "data": {
      "text/html": [
       "<div>\n",
       "<style scoped>\n",
       "    .dataframe tbody tr th:only-of-type {\n",
       "        vertical-align: middle;\n",
       "    }\n",
       "\n",
       "    .dataframe tbody tr th {\n",
       "        vertical-align: top;\n",
       "    }\n",
       "\n",
       "    .dataframe thead th {\n",
       "        text-align: right;\n",
       "    }\n",
       "</style>\n",
       "<table border=\"1\" class=\"dataframe\">\n",
       "  <thead>\n",
       "    <tr style=\"text-align: right;\">\n",
       "      <th></th>\n",
       "      <th>booked_on</th>\n",
       "      <th>date</th>\n",
       "      <th>price_string</th>\n",
       "      <th>occupied</th>\n",
       "      <th>suburb</th>\n",
       "      <th>number_of_bedrooms</th>\n",
       "      <th>number_of_bathrooms</th>\n",
       "      <th>star_rating</th>\n",
       "      <th>is_superhost</th>\n",
       "      <th>number_of_reviews</th>\n",
       "      <th>antec_reserva</th>\n",
       "    </tr>\n",
       "  </thead>\n",
       "  <tbody>\n",
       "    <tr>\n",
       "      <th>120662</th>\n",
       "      <td>2020-03-01</td>\n",
       "      <td>2021-03-06</td>\n",
       "      <td>475.0</td>\n",
       "      <td>1</td>\n",
       "      <td>Canasvieiras</td>\n",
       "      <td>2.0</td>\n",
       "      <td>2.0</td>\n",
       "      <td>NaN</td>\n",
       "      <td>False</td>\n",
       "      <td>1.0</td>\n",
       "      <td>370 days</td>\n",
       "    </tr>\n",
       "    <tr>\n",
       "      <th>120661</th>\n",
       "      <td>2020-03-01</td>\n",
       "      <td>2021-03-05</td>\n",
       "      <td>475.0</td>\n",
       "      <td>1</td>\n",
       "      <td>Canasvieiras</td>\n",
       "      <td>2.0</td>\n",
       "      <td>2.0</td>\n",
       "      <td>NaN</td>\n",
       "      <td>False</td>\n",
       "      <td>1.0</td>\n",
       "      <td>369 days</td>\n",
       "    </tr>\n",
       "    <tr>\n",
       "      <th>50439</th>\n",
       "      <td>2020-03-02</td>\n",
       "      <td>2021-03-05</td>\n",
       "      <td>270.0</td>\n",
       "      <td>1</td>\n",
       "      <td>Canasvieiras</td>\n",
       "      <td>1.0</td>\n",
       "      <td>1.0</td>\n",
       "      <td>4.5</td>\n",
       "      <td>False</td>\n",
       "      <td>4.0</td>\n",
       "      <td>368 days</td>\n",
       "    </tr>\n",
       "    <tr>\n",
       "      <th>120660</th>\n",
       "      <td>2020-03-01</td>\n",
       "      <td>2021-03-04</td>\n",
       "      <td>475.0</td>\n",
       "      <td>1</td>\n",
       "      <td>Canasvieiras</td>\n",
       "      <td>2.0</td>\n",
       "      <td>2.0</td>\n",
       "      <td>NaN</td>\n",
       "      <td>False</td>\n",
       "      <td>1.0</td>\n",
       "      <td>368 days</td>\n",
       "    </tr>\n",
       "    <tr>\n",
       "      <th>120659</th>\n",
       "      <td>2020-03-01</td>\n",
       "      <td>2021-03-03</td>\n",
       "      <td>475.0</td>\n",
       "      <td>1</td>\n",
       "      <td>Canasvieiras</td>\n",
       "      <td>2.0</td>\n",
       "      <td>2.0</td>\n",
       "      <td>NaN</td>\n",
       "      <td>False</td>\n",
       "      <td>1.0</td>\n",
       "      <td>367 days</td>\n",
       "    </tr>\n",
       "  </tbody>\n",
       "</table>\n",
       "</div>"
      ],
      "text/plain": [
       "        booked_on       date  price_string  occupied        suburb  \\\n",
       "120662 2020-03-01 2021-03-06         475.0         1  Canasvieiras   \n",
       "120661 2020-03-01 2021-03-05         475.0         1  Canasvieiras   \n",
       "50439  2020-03-02 2021-03-05         270.0         1  Canasvieiras   \n",
       "120660 2020-03-01 2021-03-04         475.0         1  Canasvieiras   \n",
       "120659 2020-03-01 2021-03-03         475.0         1  Canasvieiras   \n",
       "\n",
       "        number_of_bedrooms  number_of_bathrooms  star_rating  is_superhost  \\\n",
       "120662                 2.0                  2.0          NaN         False   \n",
       "120661                 2.0                  2.0          NaN         False   \n",
       "50439                  1.0                  1.0          4.5         False   \n",
       "120660                 2.0                  2.0          NaN         False   \n",
       "120659                 2.0                  2.0          NaN         False   \n",
       "\n",
       "        number_of_reviews antec_reserva  \n",
       "120662                1.0      370 days  \n",
       "120661                1.0      369 days  \n",
       "50439                 4.0      368 days  \n",
       "120660                1.0      368 days  \n",
       "120659                1.0      367 days  "
      ]
     },
     "execution_count": 31,
     "metadata": {},
     "output_type": "execute_result"
    }
   ],
   "source": [
    "df = df.drop(df.index[[250876,250892,76559]]) # Excluidno as três linhas com erro do DataFrame\n",
    "df.nlargest(5, 'antec_reserva') # Exibindo as cinco rerservas mais antigas"
   ]
  },
  {
   "cell_type": "markdown",
   "metadata": {},
   "source": [
    "#### Descobrindo a Antecedência Média das Reservas"
   ]
  },
  {
   "cell_type": "markdown",
   "metadata": {},
   "source": [
    "Com os outliers removidos, agora é hora de verificar a antecedência média das reservas."
   ]
  },
  {
   "cell_type": "code",
   "execution_count": 32,
   "metadata": {},
   "outputs": [
    {
     "data": {
      "text/plain": [
       "Timedelta('32 days 05:07:18.334505420')"
      ]
     },
     "execution_count": 32,
     "metadata": {},
     "output_type": "execute_result"
    }
   ],
   "source": [
    "df.antec_reserva.mean()"
   ]
  },
  {
   "cell_type": "markdown",
   "metadata": {},
   "source": [
    "Em média as reservas são feitas com 32 dias e cinco horas de antecedência. Agora é preciso saber se essas reservas são maiores nos fins de semana."
   ]
  },
  {
   "cell_type": "markdown",
   "metadata": {},
   "source": [
    "#### Criando a Variável Dia\n",
    "Essa variável identifica o dia da semana de cada reserva feita."
   ]
  },
  {
   "cell_type": "code",
   "execution_count": 33,
   "metadata": {
    "scrolled": false
   },
   "outputs": [],
   "source": [
    "dia = df.date.dt.weekday # Criando DataFrame da variável \"dia\"\n",
    "df['dia'] = dia # Adicionado nova coluna \"dia\" ao DataFrame geral\n",
    "df[['dia']] = df[['dia']].astype(str) # Transformando coluna \"dia\" em texto(object)"
   ]
  },
  {
   "cell_type": "markdown",
   "metadata": {},
   "source": [
    "Substituindo os números que representam os dias da semana por nomes."
   ]
  },
  {
   "cell_type": "code",
   "execution_count": 34,
   "metadata": {},
   "outputs": [],
   "source": [
    "df['dia'] = df['dia'].str.replace('0','Seg') # Segunda-feira\n",
    "df['dia'] = df['dia'].str.replace('1','Ter') # Terça-feira\n",
    "df['dia'] = df['dia'].str.replace('2','Qua') # Quarta-feira\n",
    "df['dia'] = df['dia'].str.replace('3','Qui') # Quinta-feira\n",
    "df['dia'] = df['dia'].str.replace('4','Sex') # Sexta-feira\n",
    "df['dia'] = df['dia'].str.replace('5','Sab') # Sábado\n",
    "df['dia'] = df['dia'].str.replace('6','Dom') # Domingo"
   ]
  },
  {
   "cell_type": "markdown",
   "metadata": {},
   "source": [
    "Preparando os dados da variável antecedência para ficarem compativeis as operações com as reservas."
   ]
  },
  {
   "cell_type": "code",
   "execution_count": 35,
   "metadata": {
    "scrolled": true
   },
   "outputs": [
    {
     "data": {
      "text/plain": [
       "dia\n",
       "Dom    780611\n",
       "Qua    726838\n",
       "Qui    732408\n",
       "Sab    810071\n",
       "Seg    742770\n",
       "Sex    786245\n",
       "Ter    734594\n",
       "Name: antec_reserva, dtype: int32"
      ]
     },
     "execution_count": 35,
     "metadata": {},
     "output_type": "execute_result"
    }
   ],
   "source": [
    "df[['antec_reserva']] = df[['antec_reserva']].astype(str) # Transformando coluna em texto\n",
    "df['antec_reserva'] = df['antec_reserva'].str.replace('days','') # Removendo caractere \"days\"\n",
    "df['antec_reserva'] = df['antec_reserva'].str.replace('NaT','0') # Substituindo valores nulos por 0\n",
    "df['antec_reserva'] = df['antec_reserva'].astype(int) # Transformando coluna em números\n",
    "df.groupby('dia')['antec_reserva'].sum() # Somando os dias de antecedência de cada dia da semana"
   ]
  },
  {
   "cell_type": "markdown",
   "metadata": {},
   "source": [
    "Agora os dados dos dias da semana das reservas(\"dia\") e antecedência(\"antec_reserva\") já estão prontos para seguir com as análises."
   ]
  },
  {
   "cell_type": "code",
   "execution_count": 40,
   "metadata": {
    "scrolled": false
   },
   "outputs": [
    {
     "data": {
      "text/html": [
       "<div>\n",
       "<style scoped>\n",
       "    .dataframe tbody tr th:only-of-type {\n",
       "        vertical-align: middle;\n",
       "    }\n",
       "\n",
       "    .dataframe tbody tr th {\n",
       "        vertical-align: top;\n",
       "    }\n",
       "\n",
       "    .dataframe thead th {\n",
       "        text-align: right;\n",
       "    }\n",
       "</style>\n",
       "<table border=\"1\" class=\"dataframe\">\n",
       "  <thead>\n",
       "    <tr style=\"text-align: right;\">\n",
       "      <th></th>\n",
       "      <th>booked_on</th>\n",
       "      <th>date</th>\n",
       "      <th>price_string</th>\n",
       "      <th>occupied</th>\n",
       "      <th>suburb</th>\n",
       "      <th>number_of_bedrooms</th>\n",
       "      <th>number_of_bathrooms</th>\n",
       "      <th>star_rating</th>\n",
       "      <th>is_superhost</th>\n",
       "      <th>number_of_reviews</th>\n",
       "      <th>antec_reserva</th>\n",
       "      <th>dia</th>\n",
       "    </tr>\n",
       "  </thead>\n",
       "  <tbody>\n",
       "    <tr>\n",
       "      <th>0</th>\n",
       "      <td>NaT</td>\n",
       "      <td>2020-11-15</td>\n",
       "      <td>250.0</td>\n",
       "      <td>0</td>\n",
       "      <td>Ingleses</td>\n",
       "      <td>2.0</td>\n",
       "      <td>2.0</td>\n",
       "      <td>NaN</td>\n",
       "      <td>False</td>\n",
       "      <td>0.0</td>\n",
       "      <td>0</td>\n",
       "      <td>Dom</td>\n",
       "    </tr>\n",
       "    <tr>\n",
       "      <th>1</th>\n",
       "      <td>NaT</td>\n",
       "      <td>2020-11-26</td>\n",
       "      <td>250.0</td>\n",
       "      <td>0</td>\n",
       "      <td>Ingleses</td>\n",
       "      <td>2.0</td>\n",
       "      <td>2.0</td>\n",
       "      <td>NaN</td>\n",
       "      <td>False</td>\n",
       "      <td>0.0</td>\n",
       "      <td>0</td>\n",
       "      <td>Qui</td>\n",
       "    </tr>\n",
       "    <tr>\n",
       "      <th>2</th>\n",
       "      <td>NaT</td>\n",
       "      <td>2020-11-27</td>\n",
       "      <td>250.0</td>\n",
       "      <td>0</td>\n",
       "      <td>Ingleses</td>\n",
       "      <td>2.0</td>\n",
       "      <td>2.0</td>\n",
       "      <td>NaN</td>\n",
       "      <td>False</td>\n",
       "      <td>0.0</td>\n",
       "      <td>0</td>\n",
       "      <td>Sex</td>\n",
       "    </tr>\n",
       "    <tr>\n",
       "      <th>3</th>\n",
       "      <td>NaT</td>\n",
       "      <td>2020-12-10</td>\n",
       "      <td>250.0</td>\n",
       "      <td>0</td>\n",
       "      <td>Ingleses</td>\n",
       "      <td>2.0</td>\n",
       "      <td>2.0</td>\n",
       "      <td>NaN</td>\n",
       "      <td>False</td>\n",
       "      <td>0.0</td>\n",
       "      <td>0</td>\n",
       "      <td>Qui</td>\n",
       "    </tr>\n",
       "    <tr>\n",
       "      <th>4</th>\n",
       "      <td>NaT</td>\n",
       "      <td>2021-02-01</td>\n",
       "      <td>250.0</td>\n",
       "      <td>0</td>\n",
       "      <td>Ingleses</td>\n",
       "      <td>2.0</td>\n",
       "      <td>2.0</td>\n",
       "      <td>NaN</td>\n",
       "      <td>False</td>\n",
       "      <td>0.0</td>\n",
       "      <td>0</td>\n",
       "      <td>Seg</td>\n",
       "    </tr>\n",
       "  </tbody>\n",
       "</table>\n",
       "</div>"
      ],
      "text/plain": [
       "  booked_on       date  price_string  occupied    suburb  number_of_bedrooms  \\\n",
       "0       NaT 2020-11-15         250.0         0  Ingleses                 2.0   \n",
       "1       NaT 2020-11-26         250.0         0  Ingleses                 2.0   \n",
       "2       NaT 2020-11-27         250.0         0  Ingleses                 2.0   \n",
       "3       NaT 2020-12-10         250.0         0  Ingleses                 2.0   \n",
       "4       NaT 2021-02-01         250.0         0  Ingleses                 2.0   \n",
       "\n",
       "   number_of_bathrooms  star_rating  is_superhost  number_of_reviews  \\\n",
       "0                  2.0          NaN         False                0.0   \n",
       "1                  2.0          NaN         False                0.0   \n",
       "2                  2.0          NaN         False                0.0   \n",
       "3                  2.0          NaN         False                0.0   \n",
       "4                  2.0          NaN         False                0.0   \n",
       "\n",
       "   antec_reserva  dia  \n",
       "0              0  Dom  \n",
       "1              0  Qui  \n",
       "2              0  Sex  \n",
       "3              0  Qui  \n",
       "4              0  Seg  "
      ]
     },
     "execution_count": 40,
     "metadata": {},
     "output_type": "execute_result"
    }
   ],
   "source": [
    "df.head() # Verificando como ficaram os colunas no DataFrame geral."
   ]
  },
  {
   "cell_type": "markdown",
   "metadata": {},
   "source": [
    "#### Antecedência Média das Reservas Entre os Dias de Semana\n",
    "Utilizando novamente a função \"groupby\" para chegar ao resultado na últma pergunta, com o calculo da média dos dias de antecedência de cada dia da semana, depois ordenados do maior para o menor."
   ]
  },
  {
   "cell_type": "code",
   "execution_count": 48,
   "metadata": {
    "scrolled": true
   },
   "outputs": [
    {
     "data": {
      "text/plain": [
       "dia\n",
       "Sab    15.784396\n",
       "Sex    15.285592\n",
       "Dom    15.176945\n",
       "Qui    14.954427\n",
       "Qua    14.856471\n",
       "Name: antec_reserva, dtype: float64"
      ]
     },
     "execution_count": 48,
     "metadata": {},
     "output_type": "execute_result"
    }
   ],
   "source": [
    "df.groupby('dia')['antec_reserva'].mean().nlargest()"
   ]
  },
  {
   "cell_type": "markdown",
   "metadata": {},
   "source": [
    "Domingo, sexta e sabádo possuem os maiores valores médios de reservas feitas. A partir desses resultados, pode-se afirmar que as pessoas realizam reservas com maior dias de antecedência principalmente aos fins de semanas, período que a maioria das pessoas tira folga de suas atividades."
   ]
  },
  {
   "cell_type": "markdown",
   "metadata": {},
   "source": [
    "### Conclusões\n",
    "\n",
    "Os principais resultados da análise mostram que: \n",
    "\n",
    "- A maior quantidade de anúncios não representa maior faturamento nos bairros, como é o caso do bairro Ingleses, que têm é o primeiro em número de anúncios, mas o segundo em faturamento. Já Jurerê que aparece como o terceiro na quantidades de anúncios detém o maior faturamento.\n",
    "\n",
    "\n",
    "- A correlação entre as caracteristicas do anúncio e o faturamento é fraca, pois a quantidade de quartos e banheiros, apresentou um índice de correlação menor de 0,42, o ideal era ser maior que 0,5 pois quanto mais perto de 1,0, maior é correlação. O índice de -0,12 aponta que não existe correlação com o faturaramento dos anúncios e número de avaliações.\n",
    "\n",
    "\n",
    "- Em média as reservas pelo Airbnb são feitas com 32 dias e cinco horas de antecedência nos bairros de Florianópolis analisados, principalmente nos fins de semana. Domingo, sexta e sabádo possuem os maiores valores médios de reservas feitas, pois é quando a maioria das pessoas está de folga de suas atividades."
   ]
  }
 ],
 "metadata": {
  "kernelspec": {
   "display_name": "Python 3",
   "language": "python",
   "name": "python3"
  },
  "language_info": {
   "codemirror_mode": {
    "name": "ipython",
    "version": 3
   },
   "file_extension": ".py",
   "mimetype": "text/x-python",
   "name": "python",
   "nbconvert_exporter": "python",
   "pygments_lexer": "ipython3",
   "version": "3.8.5"
  }
 },
 "nbformat": 4,
 "nbformat_minor": 4
}
